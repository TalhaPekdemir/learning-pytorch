{
 "cells": [
  {
   "cell_type": "markdown",
   "metadata": {},
   "source": [
    "# Computer Vision with PyTorch"
   ]
  },
  {
   "cell_type": "markdown",
   "metadata": {},
   "source": [
    "## Abstract\n",
    "\n",
    "On top of PyTorch, torchvision library utilized for a computer vision example. FashionMNIST from `torchvision.datasets` is used as data source. Dataset creation and transforms made according to `torchvision.transforms.v2` API. \n",
    "\n",
    "Total of 3 models were created throughout the example to conduct multiclass classification.\n",
    "1. Simple linear model\n",
    "2. Linear model with ReLU\n",
    "3. CNN model based on TinyVGG\n",
    "\n",
    "All models are trained and evaluated using FashionMNIST dataset. Later all models compared in the means of loss, accuracy and total training time. All data visualized. Confusion matrix as metric created for the best performing model. Then best performed model weights saved."
   ]
  },
  {
   "cell_type": "markdown",
   "metadata": {},
   "source": [
    "## Imports"
   ]
  },
  {
   "cell_type": "code",
   "execution_count": 2,
   "metadata": {},
   "outputs": [],
   "source": [
    "# PyTorch imports\n",
    "import torch \n",
    "import torch.nn as nn\n",
    "\n",
    "# torchvision imports\n",
    "import torchvision\n",
    "from torchvision import datasets\n",
    "import torchvision.transforms.v2 as transforms\n",
    "\n",
    "# For visualization\n",
    "import matplotlib.pyplot as plt"
   ]
  },
  {
   "cell_type": "code",
   "execution_count": 3,
   "metadata": {},
   "outputs": [
    {
     "name": "stdout",
     "output_type": "stream",
     "text": [
      "PyTorch version: 2.5.1+cu124\n",
      "torchvision version: 0.20.1+cu124\n"
     ]
    }
   ],
   "source": [
    "print(\"PyTorch version:\", torch.__version__)\n",
    "print(\"torchvision version:\", torchvision.__version__)"
   ]
  },
  {
   "cell_type": "markdown",
   "metadata": {},
   "source": [
    "## Getting Data\n",
    "Instancing `datasets.FashionMNIST()` class creates the dataset for us. \n",
    "**Parameters:**\n",
    "- root -> path to dataset\n",
    "- train -> If `True` train split will be loaded, if `False` test split will be loaded.\n",
    "- download -> download dataset if not present at root already.\n",
    "- transform -> transform input samples according to some transform function.\n",
    "- target_transform -> for providing a function to transform labels.\n",
    "\n",
    "For input transform, `torchvision.transforms.v2` API utilized. Previously (in v1 API) .ToTensor() method was used to convert input to tensors. In v2 API, a transform composable created and steps of transform provided. For the dataset, input data is converted to torchvision Image tensor, then normalized to [0-1]."
   ]
  },
  {
   "cell_type": "code",
   "execution_count": 4,
   "metadata": {},
   "outputs": [],
   "source": [
    "# transforms.ToTensor() is deprecated\n",
    "# https://pytorch.org/vision/stable/generated/torchvision.transforms.v2.ToTensor.html#torchvision.transforms.v2.ToTensor\n",
    "# https://pytorch.org/vision/stable/generated/torchvision.transforms.v2.Compose.html#torchvision.transforms.v2.Compose\n",
    "# https://pytorch.org/vision/stable/generated/torchvision.transforms.v2.ToImage.html#torchvision.transforms.v2.ToImage\n",
    "# https://pytorch.org/vision/stable/generated/torchvision.transforms.v2.ToDtype.html#torchvision.transforms.v2.ToDtype\n",
    "dataset_transform = transforms.Compose([\n",
    "    transforms.ToImage(),\n",
    "    transforms.ToDtype(dtype=torch.float32, scale=True)\n",
    "])\n",
    "\n",
    "train_dataset = datasets.FashionMNIST(\n",
    "    root=\"data\",\n",
    "    train=True,\n",
    "    download=True,\n",
    "    transform=dataset_transform,\n",
    "    target_transform=None\n",
    ")\n",
    "\n",
    "test_dataset = datasets.FashionMNIST(\n",
    "    root=\"data\",\n",
    "    train=False,\n",
    "    download=True,\n",
    "    transform=dataset_transform,\n",
    "    target_transform=None\n",
    ")"
   ]
  },
  {
   "cell_type": "markdown",
   "metadata": {},
   "source": [
    "### Inspecting Data\n",
    "\n",
    "Dataset has 60.000 train and 10.000 test samples."
   ]
  },
  {
   "cell_type": "code",
   "execution_count": 5,
   "metadata": {},
   "outputs": [
    {
     "data": {
      "text/plain": [
       "(60000, 10000)"
      ]
     },
     "execution_count": 5,
     "metadata": {},
     "output_type": "execute_result"
    }
   ],
   "source": [
    "len(train_dataset), len(test_dataset)"
   ]
  },
  {
   "cell_type": "code",
   "execution_count": 6,
   "metadata": {},
   "outputs": [
    {
     "data": {
      "text/plain": [
       "(Image([[[0.0000, 0.0000, 0.0000, 0.0000, 0.0000, 0.0000, 0.0000, 0.0000, 0.0000,\n",
       "          0.0000, 0.0000, 0.0000, 0.0000, 0.0000, 0.0000, 0.0000, 0.0000, 0.0000,\n",
       "          0.0000, 0.0000, 0.0000, 0.0000, 0.0000, 0.0000, 0.0000, 0.0000, 0.0000,\n",
       "          0.0000],\n",
       "         [0.0000, 0.0000, 0.0000, 0.0000, 0.0000, 0.0000, 0.0000, 0.0000, 0.0000,\n",
       "          0.0000, 0.0000, 0.0000, 0.0000, 0.0000, 0.0000, 0.0000, 0.0000, 0.0000,\n",
       "          0.0000, 0.0000, 0.0000, 0.0000, 0.0000, 0.0000, 0.0000, 0.0000, 0.0000,\n",
       "          0.0000],\n",
       "         [0.0000, 0.0000, 0.0000, 0.0000, 0.0000, 0.0000, 0.0000, 0.0000, 0.0000,\n",
       "          0.0000, 0.0000, 0.0000, 0.0000, 0.0000, 0.0000, 0.0000, 0.0000, 0.0000,\n",
       "          0.0000, 0.0000, 0.0000, 0.0000, 0.0000, 0.0000, 0.0000, 0.0000, 0.0000,\n",
       "          0.0000],\n",
       "         [0.0000, 0.0000, 0.0000, 0.0000, 0.0000, 0.0000, 0.0000, 0.0000, 0.0000,\n",
       "          0.0000, 0.0000, 0.0000, 0.0039, 0.0000, 0.0000, 0.0510, 0.2863, 0.0000,\n",
       "          0.0000, 0.0039, 0.0157, 0.0000, 0.0000, 0.0000, 0.0000, 0.0039, 0.0039,\n",
       "          0.0000],\n",
       "         [0.0000, 0.0000, 0.0000, 0.0000, 0.0000, 0.0000, 0.0000, 0.0000, 0.0000,\n",
       "          0.0000, 0.0000, 0.0000, 0.0118, 0.0000, 0.1412, 0.5333, 0.4980, 0.2431,\n",
       "          0.2118, 0.0000, 0.0000, 0.0000, 0.0039, 0.0118, 0.0157, 0.0000, 0.0000,\n",
       "          0.0118],\n",
       "         [0.0000, 0.0000, 0.0000, 0.0000, 0.0000, 0.0000, 0.0000, 0.0000, 0.0000,\n",
       "          0.0000, 0.0000, 0.0000, 0.0235, 0.0000, 0.4000, 0.8000, 0.6902, 0.5255,\n",
       "          0.5647, 0.4824, 0.0902, 0.0000, 0.0000, 0.0000, 0.0000, 0.0471, 0.0392,\n",
       "          0.0000],\n",
       "         [0.0000, 0.0000, 0.0000, 0.0000, 0.0000, 0.0000, 0.0000, 0.0000, 0.0000,\n",
       "          0.0000, 0.0000, 0.0000, 0.0000, 0.0000, 0.6078, 0.9255, 0.8118, 0.6980,\n",
       "          0.4196, 0.6118, 0.6314, 0.4275, 0.2510, 0.0902, 0.3020, 0.5098, 0.2824,\n",
       "          0.0588],\n",
       "         [0.0000, 0.0000, 0.0000, 0.0000, 0.0000, 0.0000, 0.0000, 0.0000, 0.0000,\n",
       "          0.0000, 0.0000, 0.0039, 0.0000, 0.2706, 0.8118, 0.8745, 0.8549, 0.8471,\n",
       "          0.8471, 0.6392, 0.4980, 0.4745, 0.4784, 0.5725, 0.5529, 0.3451, 0.6745,\n",
       "          0.2588],\n",
       "         [0.0000, 0.0000, 0.0000, 0.0000, 0.0000, 0.0000, 0.0000, 0.0000, 0.0000,\n",
       "          0.0039, 0.0039, 0.0039, 0.0000, 0.7843, 0.9098, 0.9098, 0.9137, 0.8980,\n",
       "          0.8745, 0.8745, 0.8431, 0.8353, 0.6431, 0.4980, 0.4824, 0.7686, 0.8980,\n",
       "          0.0000],\n",
       "         [0.0000, 0.0000, 0.0000, 0.0000, 0.0000, 0.0000, 0.0000, 0.0000, 0.0000,\n",
       "          0.0000, 0.0000, 0.0000, 0.0000, 0.7176, 0.8824, 0.8471, 0.8745, 0.8941,\n",
       "          0.9216, 0.8902, 0.8784, 0.8706, 0.8784, 0.8667, 0.8745, 0.9608, 0.6784,\n",
       "          0.0000],\n",
       "         [0.0000, 0.0000, 0.0000, 0.0000, 0.0000, 0.0000, 0.0000, 0.0000, 0.0000,\n",
       "          0.0000, 0.0000, 0.0000, 0.0000, 0.7569, 0.8941, 0.8549, 0.8353, 0.7765,\n",
       "          0.7059, 0.8314, 0.8235, 0.8275, 0.8353, 0.8745, 0.8627, 0.9529, 0.7922,\n",
       "          0.0000],\n",
       "         [0.0000, 0.0000, 0.0000, 0.0000, 0.0000, 0.0000, 0.0000, 0.0000, 0.0000,\n",
       "          0.0039, 0.0118, 0.0000, 0.0471, 0.8588, 0.8627, 0.8314, 0.8549, 0.7529,\n",
       "          0.6627, 0.8902, 0.8157, 0.8549, 0.8784, 0.8314, 0.8863, 0.7725, 0.8196,\n",
       "          0.2039],\n",
       "         [0.0000, 0.0000, 0.0000, 0.0000, 0.0000, 0.0000, 0.0000, 0.0000, 0.0000,\n",
       "          0.0000, 0.0235, 0.0000, 0.3882, 0.9569, 0.8706, 0.8627, 0.8549, 0.7961,\n",
       "          0.7765, 0.8667, 0.8431, 0.8353, 0.8706, 0.8627, 0.9608, 0.4667, 0.6549,\n",
       "          0.2196],\n",
       "         [0.0000, 0.0000, 0.0000, 0.0000, 0.0000, 0.0000, 0.0000, 0.0000, 0.0000,\n",
       "          0.0157, 0.0000, 0.0000, 0.2157, 0.9255, 0.8941, 0.9020, 0.8941, 0.9412,\n",
       "          0.9098, 0.8353, 0.8549, 0.8745, 0.9176, 0.8510, 0.8510, 0.8196, 0.3608,\n",
       "          0.0000],\n",
       "         [0.0000, 0.0000, 0.0039, 0.0157, 0.0235, 0.0275, 0.0078, 0.0000, 0.0000,\n",
       "          0.0000, 0.0000, 0.0000, 0.9294, 0.8863, 0.8510, 0.8745, 0.8706, 0.8588,\n",
       "          0.8706, 0.8667, 0.8471, 0.8745, 0.8980, 0.8431, 0.8549, 1.0000, 0.3020,\n",
       "          0.0000],\n",
       "         [0.0000, 0.0118, 0.0000, 0.0000, 0.0000, 0.0000, 0.0000, 0.0000, 0.0000,\n",
       "          0.2431, 0.5686, 0.8000, 0.8941, 0.8118, 0.8353, 0.8667, 0.8549, 0.8157,\n",
       "          0.8275, 0.8549, 0.8784, 0.8745, 0.8588, 0.8431, 0.8784, 0.9569, 0.6235,\n",
       "          0.0000],\n",
       "         [0.0000, 0.0000, 0.0000, 0.0000, 0.0706, 0.1725, 0.3216, 0.4196, 0.7412,\n",
       "          0.8941, 0.8627, 0.8706, 0.8510, 0.8863, 0.7843, 0.8039, 0.8275, 0.9020,\n",
       "          0.8784, 0.9176, 0.6902, 0.7373, 0.9804, 0.9725, 0.9137, 0.9333, 0.8431,\n",
       "          0.0000],\n",
       "         [0.0000, 0.2235, 0.7333, 0.8157, 0.8784, 0.8667, 0.8784, 0.8157, 0.8000,\n",
       "          0.8392, 0.8157, 0.8196, 0.7843, 0.6235, 0.9608, 0.7569, 0.8078, 0.8745,\n",
       "          1.0000, 1.0000, 0.8667, 0.9176, 0.8667, 0.8275, 0.8627, 0.9098, 0.9647,\n",
       "          0.0000],\n",
       "         [0.0118, 0.7922, 0.8941, 0.8784, 0.8667, 0.8275, 0.8275, 0.8392, 0.8039,\n",
       "          0.8039, 0.8039, 0.8627, 0.9412, 0.3137, 0.5882, 1.0000, 0.8980, 0.8667,\n",
       "          0.7373, 0.6039, 0.7490, 0.8235, 0.8000, 0.8196, 0.8706, 0.8941, 0.8824,\n",
       "          0.0000],\n",
       "         [0.3843, 0.9137, 0.7765, 0.8235, 0.8706, 0.8980, 0.8980, 0.9176, 0.9765,\n",
       "          0.8627, 0.7608, 0.8431, 0.8510, 0.9451, 0.2549, 0.2863, 0.4157, 0.4588,\n",
       "          0.6588, 0.8588, 0.8667, 0.8431, 0.8510, 0.8745, 0.8745, 0.8784, 0.8980,\n",
       "          0.1137],\n",
       "         [0.2941, 0.8000, 0.8314, 0.8000, 0.7569, 0.8039, 0.8275, 0.8824, 0.8471,\n",
       "          0.7255, 0.7725, 0.8078, 0.7765, 0.8353, 0.9412, 0.7647, 0.8902, 0.9608,\n",
       "          0.9373, 0.8745, 0.8549, 0.8314, 0.8196, 0.8706, 0.8627, 0.8667, 0.9020,\n",
       "          0.2627],\n",
       "         [0.1882, 0.7961, 0.7176, 0.7608, 0.8353, 0.7725, 0.7255, 0.7451, 0.7608,\n",
       "          0.7529, 0.7922, 0.8392, 0.8588, 0.8667, 0.8627, 0.9255, 0.8824, 0.8471,\n",
       "          0.7804, 0.8078, 0.7294, 0.7098, 0.6941, 0.6745, 0.7098, 0.8039, 0.8078,\n",
       "          0.4510],\n",
       "         [0.0000, 0.4784, 0.8588, 0.7569, 0.7020, 0.6706, 0.7176, 0.7686, 0.8000,\n",
       "          0.8235, 0.8353, 0.8118, 0.8275, 0.8235, 0.7843, 0.7686, 0.7608, 0.7490,\n",
       "          0.7647, 0.7490, 0.7765, 0.7529, 0.6902, 0.6118, 0.6549, 0.6941, 0.8235,\n",
       "          0.3608],\n",
       "         [0.0000, 0.0000, 0.2902, 0.7412, 0.8314, 0.7490, 0.6863, 0.6745, 0.6863,\n",
       "          0.7098, 0.7255, 0.7373, 0.7412, 0.7373, 0.7569, 0.7765, 0.8000, 0.8196,\n",
       "          0.8235, 0.8235, 0.8275, 0.7373, 0.7373, 0.7608, 0.7529, 0.8471, 0.6667,\n",
       "          0.0000],\n",
       "         [0.0078, 0.0000, 0.0000, 0.0000, 0.2588, 0.7843, 0.8706, 0.9294, 0.9373,\n",
       "          0.9490, 0.9647, 0.9529, 0.9569, 0.8667, 0.8627, 0.7569, 0.7490, 0.7020,\n",
       "          0.7137, 0.7137, 0.7098, 0.6902, 0.6510, 0.6588, 0.3882, 0.2275, 0.0000,\n",
       "          0.0000],\n",
       "         [0.0000, 0.0000, 0.0000, 0.0000, 0.0000, 0.0000, 0.0000, 0.1569, 0.2392,\n",
       "          0.1725, 0.2824, 0.1608, 0.1373, 0.0000, 0.0000, 0.0000, 0.0000, 0.0000,\n",
       "          0.0000, 0.0000, 0.0000, 0.0000, 0.0000, 0.0000, 0.0000, 0.0000, 0.0000,\n",
       "          0.0000],\n",
       "         [0.0000, 0.0000, 0.0000, 0.0000, 0.0000, 0.0000, 0.0000, 0.0000, 0.0000,\n",
       "          0.0000, 0.0000, 0.0000, 0.0000, 0.0000, 0.0000, 0.0000, 0.0000, 0.0000,\n",
       "          0.0000, 0.0000, 0.0000, 0.0000, 0.0000, 0.0000, 0.0000, 0.0000, 0.0000,\n",
       "          0.0000],\n",
       "         [0.0000, 0.0000, 0.0000, 0.0000, 0.0000, 0.0000, 0.0000, 0.0000, 0.0000,\n",
       "          0.0000, 0.0000, 0.0000, 0.0000, 0.0000, 0.0000, 0.0000, 0.0000, 0.0000,\n",
       "          0.0000, 0.0000, 0.0000, 0.0000, 0.0000, 0.0000, 0.0000, 0.0000, 0.0000,\n",
       "          0.0000]]], ),\n",
       " 9)"
      ]
     },
     "execution_count": 6,
     "metadata": {},
     "output_type": "execute_result"
    }
   ],
   "source": [
    "image, label = train_dataset[0]\n",
    "\n",
    "image, label"
   ]
  },
  {
   "cell_type": "markdown",
   "metadata": {},
   "source": [
    "Usage of `VisionDataset.classes` to see target classes."
   ]
  },
  {
   "cell_type": "code",
   "execution_count": 7,
   "metadata": {},
   "outputs": [
    {
     "data": {
      "text/plain": [
       "['T-shirt/top',\n",
       " 'Trouser',\n",
       " 'Pullover',\n",
       " 'Dress',\n",
       " 'Coat',\n",
       " 'Sandal',\n",
       " 'Shirt',\n",
       " 'Sneaker',\n",
       " 'Bag',\n",
       " 'Ankle boot']"
      ]
     },
     "execution_count": 7,
     "metadata": {},
     "output_type": "execute_result"
    }
   ],
   "source": [
    "train_dataset.classes"
   ]
  },
  {
   "cell_type": "markdown",
   "metadata": {},
   "source": [
    "Usage of `VisionDataset.class_to_idx` to see target classes with encoded labels. As it seems PyTorch is using integer encoding for label encoding."
   ]
  },
  {
   "cell_type": "code",
   "execution_count": 8,
   "metadata": {},
   "outputs": [
    {
     "data": {
      "text/plain": [
       "{'T-shirt/top': 0,\n",
       " 'Trouser': 1,\n",
       " 'Pullover': 2,\n",
       " 'Dress': 3,\n",
       " 'Coat': 4,\n",
       " 'Sandal': 5,\n",
       " 'Shirt': 6,\n",
       " 'Sneaker': 7,\n",
       " 'Bag': 8,\n",
       " 'Ankle boot': 9}"
      ]
     },
     "execution_count": 8,
     "metadata": {},
     "output_type": "execute_result"
    }
   ],
   "source": [
    "train_dataset.class_to_idx"
   ]
  },
  {
   "cell_type": "markdown",
   "metadata": {},
   "source": [
    "Usage of `VisionDataset.targets` to see all target labels for given dataset."
   ]
  },
  {
   "cell_type": "code",
   "execution_count": 9,
   "metadata": {},
   "outputs": [
    {
     "data": {
      "text/plain": [
       "tensor([9, 0, 0,  ..., 3, 0, 5])"
      ]
     },
     "execution_count": 9,
     "metadata": {},
     "output_type": "execute_result"
    }
   ],
   "source": [
    "# Labels of train data\n",
    "train_dataset.targets"
   ]
  },
  {
   "cell_type": "markdown",
   "metadata": {},
   "source": [
    "By default in torchvision, input shape starts with color channels for visual datasets and followed by height and width."
   ]
  },
  {
   "cell_type": "code",
   "execution_count": 10,
   "metadata": {},
   "outputs": [
    {
     "name": "stdout",
     "output_type": "stream",
     "text": [
      "Image shape torch.Size([1, 28, 28]) as [num channels, height, width]\n",
      "Image label Ankle boot\n"
     ]
    }
   ],
   "source": [
    "print(f\"Image shape {image.shape} as [num channels, height, width]\")\n",
    "print(f\"Image label {train_dataset.classes[label]}\")"
   ]
  },
  {
   "cell_type": "markdown",
   "metadata": {},
   "source": [
    "### Visualizing Data"
   ]
  },
  {
   "cell_type": "code",
   "execution_count": 11,
   "metadata": {},
   "outputs": [
    {
     "data": {
      "text/plain": [
       "Text(0.5, 1.0, 'Ankle boot')"
      ]
     },
     "execution_count": 11,
     "metadata": {},
     "output_type": "execute_result"
    },
    {
     "data": {
      "image/png": "[encoded data removed]",
      "text/plain": [
       "<Figure size 640x480 with 1 Axes>"
      ]
     },
     "metadata": {},
     "output_type": "display_data"
    }
   ],
   "source": [
    "plt.figure()\n",
    "# If single dimension for grayscale image not removed from shape, \n",
    "# TypeError: Invalid shape (1, 28, 28) for image data\n",
    "# error will occur.\n",
    "# Color channel should be last if image is RGB.\n",
    "plt.imshow(image.squeeze(), cmap=\"gray\")\n",
    "plt.title(train_dataset.classes[label])"
   ]
  },
  {
   "cell_type": "markdown",
   "metadata": {},
   "source": [
    "Visualizing random samples from train dataset using matplotlib."
   ]
  },
  {
   "cell_type": "code",
   "execution_count": 12,
   "metadata": {},
   "outputs": [
    {
     "data": {
      "image/png": "[encoded data removed]",
      "text/plain": [
       "<Figure size 900x900 with 16 Axes>"
      ]
     },
     "metadata": {},
     "output_type": "display_data"
    }
   ],
   "source": [
    "# use torch.manual_seed(7) for same outputs every time\n",
    "fig = plt.figure(figsize=(9, 9))\n",
    "rows, cols = 4, 4\n",
    "for i in range(1, rows*cols+1):\n",
    "  random_idx = torch.randint(0, len(train_dataset), size=[1]).item()\n",
    "  img, label = train_dataset[random_idx]\n",
    "  fig.add_subplot(rows, cols, i)\n",
    "  plt.imshow(img.squeeze(), cmap=\"gray\")\n",
    "  plt.title(train_dataset.classes[label])\n",
    "  plt.axis(False)"
   ]
  },
  {
   "cell_type": "markdown",
   "metadata": {},
   "source": [
    "## Custom Data Pipeline\n",
    "\n",
    "- Full documentation of PyTorch data handling -> https://pytorch.org/docs/stable/data.html\n",
    "- Useful getting started with DataLoader by PyTorch -> https://pytorch.org/tutorials/beginner/basics/data_tutorial.html\n",
    "\n",
    "In previous examples, [regression model](MODELS.md#model-creation-preparation-1-acquire-data) and [classification models](CLASSIFICATION.md), created data was synthetic and small hence was able to fit in CPU or GPU memory with no problems. But now dataset has 60000 samples of 28x28 images. Which can exhaust memory quickly. To overcome this problem we can **batch** or **mini-batch** our dataset.\n",
    "\n",
    "Batch size of 32 is a good starting point. In many places you can see the phrase \"batch size is decided according to your hardware\". Partially true but bigger batch sizes can completely defeat the purpose of frequent gradient updating. This is a decision up to you.\n",
    "\n",
    "While providing memory efficiency, using mini-batches also cause more frequent updates in gradients. Which is good for model generalization.\n",
    "\n",
    "Batched DataLoader can be shuffled. Shuffling data is beneficial. If a dataset has same class sequentially in a batch, feeding it to a model in train time can cause bias and overfitting.\n",
    "\n",
    "On the other hand test dataset will not cause any gradient updates, hence shuffling it is not needed."
   ]
  },
  {
   "cell_type": "code",
   "execution_count": 13,
   "metadata": {},
   "outputs": [],
   "source": [
    "from torch.utils.data import DataLoader\n",
    "\n",
    "BATCH_SIZE = 32\n",
    "\n",
    "train_dataloader = DataLoader(dataset=train_dataset,\n",
    "                              batch_size=BATCH_SIZE,\n",
    "                              shuffle=True)\n",
    "\n",
    "test_dataloader = DataLoader(dataset=test_dataset,\n",
    "                              batch_size=BATCH_SIZE,\n",
    "                              shuffle=False)"
   ]
  },
  {
   "cell_type": "markdown",
   "metadata": {},
   "source": [
    "- 60000 / 32 = 1875 batches\n",
    "- 10000 / 32 = 312.5 rounded to 313 batches. Last batch has less than 32 samples. This part can be discarded with `drop_last=True` in DataLoader parameter."
   ]
  },
  {
   "cell_type": "code",
   "execution_count": 14,
   "metadata": {},
   "outputs": [
    {
     "name": "stdout",
     "output_type": "stream",
     "text": [
      "Train dataloader: <torch.utils.data.dataloader.DataLoader object at 0x000001BB82357390>\n",
      "Test dataloader: <torch.utils.data.dataloader.DataLoader object at 0x000001BB823904D0>\n",
      "Train dataloader size: 1875 for batch size of 32.\n",
      "Test dataloader size: 313 for batch size of 32.\n"
     ]
    }
   ],
   "source": [
    "print(f\"Train dataloader: {train_dataloader}\")\n",
    "print(f\"Test dataloader: {test_dataloader}\")\n",
    "\n",
    "print(f\"Train dataloader size: {len(train_dataloader)} for batch size of {BATCH_SIZE}.\")\n",
    "print(f\"Test dataloader size: {len(test_dataloader)} for batch size of {BATCH_SIZE}.\")"
   ]
  },
  {
   "cell_type": "markdown",
   "metadata": {},
   "source": [
    "### Data Shape of Batched Dataset"
   ]
  },
  {
   "cell_type": "code",
   "execution_count": 15,
   "metadata": {},
   "outputs": [
    {
     "name": "stdout",
     "output_type": "stream",
     "text": [
      "Train feature shape for batch: torch.Size([32, 1, 28, 28]) -> [batch size, color channel, height, width] (NCHW)\n",
      "Train labels shape for batch: torch.Size([32])\n"
     ]
    }
   ],
   "source": [
    "train_features_batch, train_labels_batch = next(iter(train_dataloader))\n",
    "\n",
    "print(f\"Train feature shape for batch: {train_features_batch.shape} -> [batch size, color channel, height, width] (NCHW)\")\n",
    "print(f\"Train labels shape for batch: {train_labels_batch.shape}\")"
   ]
  },
  {
   "cell_type": "code",
   "execution_count": 16,
   "metadata": {},
   "outputs": [
    {
     "data": {
      "text/plain": [
       "(-0.5, 27.5, 27.5, -0.5)"
      ]
     },
     "execution_count": 16,
     "metadata": {},
     "output_type": "execute_result"
    },
    {
     "data": {
      "image/png": "[encoded data removed]",
      "text/plain": [
       "<Figure size 640x480 with 1 Axes>"
      ]
     },
     "metadata": {},
     "output_type": "display_data"
    }
   ],
   "source": [
    "random_idx = torch.randint(0, len(train_features_batch), size=[1]).item()\n",
    "img, label = train_features_batch[random_idx], train_labels_batch[random_idx]\n",
    "plt.imshow(img.squeeze(), cmap=\"gray\")\n",
    "plt.title(train_dataset.classes[label])\n",
    "plt.axis(False)"
   ]
  },
  {
   "cell_type": "markdown",
   "metadata": {},
   "source": [
    "## Creating Model\n",
    "\n",
    "### Creating a Linear Model\n",
    "\n",
    "Similar to creating a linear model with `nn.Linear` layers but this time our data is not a tensor with single dimension. In fact it is a tensor 28 by 28. Before feeding it through a Linear layer, input should be linearized too. This is where `nn.Flatten` layer comes in. Takes a multidimensional input and outputs it as a single one dimensional tensor. linear model is used for a baseline to improve upon.\n",
    "\n",
    "Model input should be the amount of pixels in image (28x28=784) and the output should be the same as class count of the dataset (10).\n",
    "\n",
    "With that fixed the model is like:\n",
    "\n",
    "```python\n",
    "Input Hidden Output\n",
    "\n",
    "  o     o      o\n",
    "  o     o      o\n",
    "  o     o      o\n",
    "  o     o      o\n",
    "  .     .      .\n",
    "  .     .      .\n",
    "  .     .      .\n",
    " 784    8      10 neurons.\n",
    "```"
   ]
  },
  {
   "cell_type": "code",
   "execution_count": 17,
   "metadata": {},
   "outputs": [
    {
     "data": {
      "text/plain": [
       "FashionMNISTModelv1(\n",
       "  (layer_stack): Sequential(\n",
       "    (0): Flatten(start_dim=1, end_dim=-1)\n",
       "    (1): Linear(in_features=784, out_features=8, bias=True)\n",
       "    (2): Linear(in_features=8, out_features=10, bias=True)\n",
       "  )\n",
       ")"
      ]
     },
     "execution_count": 17,
     "metadata": {},
     "output_type": "execute_result"
    }
   ],
   "source": [
    "class FashionMNISTModelv1(nn.Module):\n",
    "    def __init__(self, in_size, hidden_units, out_size):\n",
    "        super().__init__()\n",
    "\n",
    "        self.layer_stack = nn.Sequential(\n",
    "            nn.Flatten(),\n",
    "            nn.Linear(in_features=in_size, out_features=hidden_units),\n",
    "            nn.Linear(in_features=hidden_units, out_features=out_size)\n",
    "        )\n",
    "\n",
    "    def forward(self, x):\n",
    "        return self.layer_stack(x)\n",
    "\n",
    "\n",
    "torch.manual_seed(7)\n",
    "model1 = FashionMNISTModelv1(\n",
    "    in_size=28*28,\n",
    "    hidden_units=8,\n",
    "    out_size=len(train_dataset.classes)\n",
    ")\n",
    "\n",
    "model1"
   ]
  },
  {
   "cell_type": "markdown",
   "metadata": {},
   "source": [
    "#### Linear Model Loss Function and Optimizer\n",
    "\n",
    "As in [multiclass classification example](CLASSIFICATION.MULTICLASS.md#loss-function) Cross Entropy Loss is used sinc our problem again is multiclass classification.\n",
    "\n",
    "As optimizer, SGD is used with 0.1 learning rate."
   ]
  },
  {
   "cell_type": "code",
   "execution_count": 18,
   "metadata": {},
   "outputs": [],
   "source": [
    "loss_fn = nn.CrossEntropyLoss()\n",
    "\n",
    "optimizer = torch.optim.SGD(params=model1.parameters(), lr=0.1)"
   ]
  },
  {
   "cell_type": "markdown",
   "metadata": {},
   "source": [
    "#### Calculating Time Elapsed\n",
    "\n",
    "To observe and report training time below helper function is written."
   ]
  },
  {
   "cell_type": "code",
   "execution_count": 19,
   "metadata": {},
   "outputs": [],
   "source": [
    "from timeit import default_timer as timer\n",
    "\n",
    "def print_train_time(start: float, end: float, device: torch.device=None):\n",
    "    \"\"\"\n",
    "    Calculates and prints elapsed time in seconds. Returns the time elapsed for external use.\n",
    "    \"\"\"\n",
    "    total_time = end - start\n",
    "\n",
    "    print(f\"Elapsed time on device {device}: {total_time:4f} seconds.\")\n",
    "\n",
    "    return total_time"
   ]
  },
  {
   "cell_type": "markdown",
   "metadata": {},
   "source": [
    "Example usage:"
   ]
  },
  {
   "cell_type": "code",
   "execution_count": 20,
   "metadata": {},
   "outputs": [
    {
     "name": "stdout",
     "output_type": "stream",
     "text": [
      "Elapsed time on device cpu: 0.074341 seconds.\n"
     ]
    },
    {
     "data": {
      "text/plain": [
       "0.07434060000014142"
      ]
     },
     "execution_count": 20,
     "metadata": {},
     "output_type": "execute_result"
    }
   ],
   "source": [
    "start_time = timer()\n",
    "\n",
    "[i for i in range(int(1e6))]\n",
    "\n",
    "end_time = timer()\n",
    "\n",
    "print_train_time(start_time, end_time, \"cpu\")"
   ]
  },
  {
   "cell_type": "markdown",
   "metadata": {},
   "source": [
    "#### Linear Model Training\n",
    "\n",
    "Model train loop is the same except additional looping for batches. Simplified train loop is like so:\n",
    "1. Loop for epochs\n",
    "2. Loop for train batches and perform normal train steps, train loss calculated per batch\n",
    "3. Loop for test batches and perform normal test steps, test loss calculated per batch\n",
    "\n",
    "**Note:** All models trained with low epoch number because I am running on a local machine. "
   ]
  },
  {
   "cell_type": "code",
   "execution_count": null,
   "metadata": {},
   "outputs": [
    {
     "name": "stderr",
     "output_type": "stream",
     "text": [
      "d:\\PyTorch\\.venv\\Lib\\site-packages\\tqdm\\auto.py:21: TqdmWarning: IProgress not found. Please update jupyter and ipywidgets. See https://ipywidgets.readthedocs.io/en/stable/user_install.html\n",
      "  from .autonotebook import tqdm as notebook_tqdm\n",
      "  0%|          | 0/3 [00:00<?, ?it/s]"
     ]
    },
    {
     "name": "stdout",
     "output_type": "stream",
     "text": [
      "Epoch 1:\n",
      "\n",
      "Looked at 0/60000 samples.\n",
      "Looked at 12800/60000 samples.\n",
      "Looked at 25600/60000 samples.\n",
      "Looked at 38400/60000 samples.\n",
      "Looked at 51200/60000 samples.\n"
     ]
    },
    {
     "name": "stderr",
     "output_type": "stream",
     "text": [
      " 33%|███▎      | 1/3 [00:37<01:15, 37.92s/it]"
     ]
    },
    {
     "name": "stdout",
     "output_type": "stream",
     "text": [
      "Train Loss: 0.0000 | Train Acc: 78.71 | Test Loss: 0.5016 | Test Acc: 82.13\n",
      "Epoch 2:\n",
      "\n",
      "Looked at 0/60000 samples.\n",
      "Looked at 12800/60000 samples.\n",
      "Looked at 25600/60000 samples.\n",
      "Looked at 38400/60000 samples.\n",
      "Looked at 51200/60000 samples.\n"
     ]
    },
    {
     "name": "stderr",
     "output_type": "stream",
     "text": [
      " 67%|██████▋   | 2/3 [01:11<00:35, 35.60s/it]"
     ]
    },
    {
     "name": "stdout",
     "output_type": "stream",
     "text": [
      "Train Loss: 0.0000 | Train Acc: 82.89 | Test Loss: 0.5188 | Test Acc: 81.83\n",
      "Epoch 3:\n",
      "\n",
      "Looked at 0/60000 samples.\n",
      "Looked at 12800/60000 samples.\n",
      "Looked at 25600/60000 samples.\n",
      "Looked at 38400/60000 samples.\n",
      "Looked at 51200/60000 samples.\n"
     ]
    },
    {
     "name": "stderr",
     "output_type": "stream",
     "text": [
      "100%|██████████| 3/3 [01:48<00:00, 36.16s/it]"
     ]
    },
    {
     "name": "stdout",
     "output_type": "stream",
     "text": [
      "Train Loss: 0.0000 | Train Acc: 83.73 | Test Loss: 0.4699 | Test Acc: 83.42\n",
      "Elapsed time on device cpu: 108.482765 seconds.\n"
     ]
    },
    {
     "name": "stderr",
     "output_type": "stream",
     "text": [
      "\n"
     ]
    }
   ],
   "source": [
    "from tqdm.auto import tqdm\n",
    "from helper_functions import accuracy_fn\n",
    "\n",
    "# train loop\n",
    "torch.manual_seed(7)\n",
    "\n",
    "EPOCHS = 3\n",
    "\n",
    "# start time for calculating train time \n",
    "train_start_time_on_cpu = timer()\n",
    "\n",
    "for epoch in tqdm(range(1, EPOCHS+1)):\n",
    "    print(f\"Epoch {epoch}:\\n\")\n",
    "    train_loss, train_acc = 0, 0\n",
    "\n",
    "    for batch, (X, y) in enumerate(train_dataloader):\n",
    "        # set model mode to train\n",
    "        model1.train()\n",
    "        \n",
    "        # zero the gradient buffers\n",
    "        optimizer.zero_grad()\n",
    "\n",
    "        # forward pass\n",
    "        y_preds = model1(X)\n",
    "\n",
    "        # calculate the batch loss\n",
    "        loss = loss_fn(y_preds, y)\n",
    "        loss += train_loss \n",
    "        \n",
    "        # optional - track accuracy\n",
    "        train_acc += accuracy_fn(y, y_preds.argmax(dim=1))\n",
    "\n",
    "        # backpropagation\n",
    "        loss.backward()\n",
    "\n",
    "        optimizer.step()\n",
    "\n",
    "        if batch % 400 == 0:\n",
    "            print(f\"Looked at {batch * len(X)}/{len(train_dataloader.dataset)} samples.\")\n",
    "\n",
    "    # Divide total train loss by length of train dataloader\n",
    "    train_loss /= len(train_dataloader)\n",
    "    train_acc /= len(train_dataloader)\n",
    "\n",
    "    # test loop\n",
    "    test_loss, test_acc = 0, 0\n",
    "    model1.eval()\n",
    "    with torch.inference_mode():\n",
    "        for batch, (X_test, y_test) in enumerate(test_dataloader):\n",
    "            test_preds = model1(X_test)\n",
    "\n",
    "            test_loss += loss_fn(test_preds, y_test)\n",
    "\n",
    "            test_acc += accuracy_fn(y_test, test_preds.argmax(dim=1))\n",
    "\n",
    "        test_loss /= len(test_dataloader)\n",
    "        test_acc /= len(test_dataloader)\n",
    "    \n",
    "    print(\n",
    "        f\"Train Loss: {train_loss:.4f} | Train Acc: {train_acc:.2f} | Test Loss: {test_loss:.4f} | Test Acc: {test_acc:.2f}\")\n",
    "\n",
    "# stop time for calculating train time\n",
    "train_stop_time_on_cpu = timer()\n",
    "\n",
    "model1_train_time = print_train_time(\n",
    "    train_start_time_on_cpu, train_stop_time_on_cpu, str(next(model1.parameters()).device))"
   ]
  },
  {
   "cell_type": "markdown",
   "metadata": {},
   "source": [
    "Helper function for evaluating model performance."
   ]
  },
  {
   "cell_type": "code",
   "execution_count": 22,
   "metadata": {},
   "outputs": [],
   "source": [
    "def eval_model(model: torch.nn.Module, \n",
    "               dataloader: torch.utils.data.DataLoader,\n",
    "               loss_fn: torch.nn.Module,\n",
    "               accuracy_fn,\n",
    "               device = \"cpu\"):\n",
    "    \"\"\"\n",
    "    Evaluates a given PyTorch model on a provided dataset.\n",
    "\n",
    "    Args:\n",
    "        model (torch.nn.Module): The model to evaluate.\n",
    "        dataloader (torch.utils.data.DataLoader): DataLoader providing the dataset to evaluate on.\n",
    "        loss_fn (torch.nn.Module): Loss function to calculate the loss.\n",
    "        accuracy_fn (function): Function to calculate the accuracy. Should accept `y_true` and `y_pred` as arguments.\n",
    "\n",
    "    Returns:\n",
    "        dict: A dictionary containing the model name, average loss, and average accuracy.\n",
    "            - \"model_name\" (str): The name of the model class.\n",
    "            - \"loss\" (float): The average loss over the dataset.\n",
    "            - \"accuracy\" (float): The average accuracy over the dataset.\n",
    "    \"\"\"\n",
    "\n",
    "    model.eval()\n",
    "    model.to(device)\n",
    "\n",
    "    loss, acc = 0, 0\n",
    "    with torch.inference_mode():\n",
    "        for X, y in tqdm(dataloader):\n",
    "            X, y = X.to(device), y.to(device)\n",
    "\n",
    "            # Make predictions\n",
    "            y_preds = model(X)\n",
    "\n",
    "            # Calculate the loss\n",
    "            loss += loss_fn(y_preds, y)\n",
    "\n",
    "            # Calculate the accuracy\n",
    "            acc += accuracy_fn(y_true=y, \n",
    "                                 y_pred=y_preds.argmax(dim=1))\n",
    "\n",
    "        # Calculate average loss\n",
    "        loss /= len(dataloader)\n",
    "\n",
    "        # Calculate average accuracy\n",
    "        acc /= len(dataloader)\n",
    "\n",
    "    return {\"model_name\": model.__class__.__name__, #only works if model is class\n",
    "            \"loss\": loss.item(),\n",
    "            \"accuracy\": acc}"
   ]
  },
  {
   "cell_type": "markdown",
   "metadata": {},
   "source": [
    "#### Linear Model Evaluation"
   ]
  },
  {
   "cell_type": "code",
   "execution_count": 151,
   "metadata": {},
   "outputs": [
    {
     "name": "stderr",
     "output_type": "stream",
     "text": [
      "100%|██████████| 313/313 [00:06<00:00, 45.23it/s]\n"
     ]
    },
    {
     "data": {
      "text/plain": [
       "{'model_name': 'FashionMNISTModelv1',\n",
       " 'loss': 0.46991562843322754,\n",
       " 'accuracy': 83.41653354632588}"
      ]
     },
     "execution_count": 151,
     "metadata": {},
     "output_type": "execute_result"
    }
   ],
   "source": [
    "model1_results = eval_model(model=model1,\n",
    "                            dataloader=test_dataloader,\n",
    "                            loss_fn=loss_fn,\n",
    "                            accuracy_fn=accuracy_fn)\n",
    "\n",
    "model1_results"
   ]
  },
  {
   "cell_type": "markdown",
   "metadata": {},
   "source": [
    "### Setting Up Device Agnostic Code\n",
    "\n",
    "Linear model was trained on CPU. Let's test if we use GPU for training will the train time be lesser."
   ]
  },
  {
   "cell_type": "code",
   "execution_count": 24,
   "metadata": {},
   "outputs": [
    {
     "data": {
      "text/plain": [
       "'cuda'"
      ]
     },
     "execution_count": 24,
     "metadata": {},
     "output_type": "execute_result"
    }
   ],
   "source": [
    "device = \"cuda\" if torch.cuda.is_available() else \"cpu\"\n",
    "device"
   ]
  },
  {
   "cell_type": "markdown",
   "metadata": {},
   "source": [
    "### Creating Neural Network with Non-Linearity\n",
    "\n",
    "Dataset has pretty basic shapes like slopes, lines and rectangles. Let's see if introducing non-linearity will improve accuracy. "
   ]
  },
  {
   "cell_type": "code",
   "execution_count": 25,
   "metadata": {},
   "outputs": [
    {
     "data": {
      "text/plain": [
       "device(type='cuda', index=0)"
      ]
     },
     "execution_count": 25,
     "metadata": {},
     "output_type": "execute_result"
    }
   ],
   "source": [
    "class FashionMNISTModelv2(nn.Module):\n",
    "    def __init__(self, in_size, out_size, hidden_units):\n",
    "        super().__init__()\n",
    "\n",
    "        self.layer_stack = nn.Sequential(\n",
    "            nn.Flatten(),\n",
    "            nn.Linear(in_features=in_size, out_features=hidden_units),\n",
    "            nn.ReLU(),\n",
    "            nn.Linear(in_features=hidden_units, out_features=out_size),\n",
    "            nn.ReLU()\n",
    "        )\n",
    "    \n",
    "    def forward(self, x):\n",
    "        return self.layer_stack(x)\n",
    "\n",
    "torch.manual_seed(7)\n",
    "model2 = FashionMNISTModelv2(in_size=28*28,\n",
    "                             out_size=len(train_dataset.classes),\n",
    "                             hidden_units=8\n",
    "                             ).to(device)\n",
    "\n",
    "next(model2.parameters()).device"
   ]
  },
  {
   "cell_type": "markdown",
   "metadata": {},
   "source": [
    "#### Reusable Train Loop\n",
    "\n",
    "As stated in [linear model training](#linear-model-training) the train loop can be split up to 3 main processes. Epoch loop, train loop, test loop. Writing a function for all parts allows us to create reusable parts. After that we do not have to write a train loop all over again. A new training needed? Call the train method again with different parameters."
   ]
  },
  {
   "cell_type": "code",
   "execution_count": 26,
   "metadata": {},
   "outputs": [],
   "source": [
    "def train_single_epoch(model: torch.nn.Module,\n",
    "                       dataloader: torch.utils.data.DataLoader,\n",
    "                       loss_fn: torch.nn.Module,\n",
    "                       optimizer: torch.optim.Optimizer,\n",
    "                       accuracy_fn,\n",
    "                       device: None):\n",
    "    \n",
    "    \"\"\"Trains model single epoch by given parameters.\"\"\"\n",
    "    \n",
    "    train_loss, train_acc = 0, 0\n",
    "\n",
    "    # Put model into training mode\n",
    "    model.train()\n",
    "\n",
    "    # Add a loop to loop through the training batches\n",
    "    for batch, (X, y) in enumerate(dataloader):\n",
    "        # Put data on target device \n",
    "        X, y = X.to(device), y.to(device)\n",
    "\n",
    "        # 1. Forward pass (outputs the raw logits from the model)\n",
    "        y_pred = model(X)\n",
    "        \n",
    "        # 2. Calculate loss and accuracy (per batch)\n",
    "        loss = loss_fn(y_pred, y)\n",
    "        train_loss += loss # accumulate train loss\n",
    "        train_acc += accuracy_fn(y_true=y,\n",
    "                                y_pred=y_pred.argmax(dim=1)) # go from logits -> prediction labels\n",
    "        \n",
    "        # 3. Optimizer zero grad\n",
    "        optimizer.zero_grad()\n",
    "        \n",
    "        # 4. Loss backward\n",
    "        loss.backward()\n",
    "        \n",
    "        # 5. Optimizer step (update the model's parameters once *per batch*)\n",
    "        optimizer.step()\n",
    "    \n",
    "    # Divide total train loss and acc by length of train dataloader\n",
    "    train_loss /= len(dataloader)\n",
    "    train_acc /= len(dataloader)\n",
    "\n",
    "    print(f\"Train Loss: {train_loss:.5f} | Train Acc: {train_acc:.2f}%\")\n",
    "\n",
    "\n",
    "def test_single_epoch(model: torch.nn.Module,\n",
    "                      dataloader: torch.utils.data.DataLoader,\n",
    "                      loss_fn: torch.nn.Module,\n",
    "                      accuracy_fn,\n",
    "                      device: None):\n",
    "    \n",
    "    \"\"\"Tests a model for single epoch.\"\"\"\n",
    "\n",
    "    test_loss, test_acc = 0, 0\n",
    "  \n",
    "    # Put the model in eval mode\n",
    "    model.eval()\n",
    "\n",
    "    # Turn on inference mode context manager\n",
    "    with torch.inference_mode():\n",
    "        for X, y in dataloader:\n",
    "            # Send the data to the target device\n",
    "            X, y = X.to(device), y.to(device)\n",
    "\n",
    "            # 1. Forward pass (outputs raw logits)\n",
    "            test_pred = model(X)\n",
    "\n",
    "            # 2. Calculuate the loss/acc\n",
    "            test_loss += loss_fn(test_pred, y)\n",
    "            test_acc += accuracy_fn(y_true=y,\n",
    "                                    y_pred=test_pred.argmax(dim=1)) # go from logits -> prediction labels \n",
    "\n",
    "        # Adjust metrics and print out\n",
    "        test_loss /= len(dataloader)\n",
    "        test_acc /= len(dataloader)\n",
    "        print(f\"Test loss: {test_loss:.5f} | Test acc: {test_acc:.2f}%\\n\")\n",
    "\n",
    "\n",
    "def train_model(model: torch.nn.Module,\n",
    "                train_dataloader: torch.utils.data.DataLoader,\n",
    "                test_dataloader: torch.utils.data.DataLoader,\n",
    "                epochs: int,\n",
    "                loss_fn: torch.nn.Module,\n",
    "                optimizer: torch.optim.Optimizer,\n",
    "                accuracy_fn,\n",
    "                device: None):\n",
    "    \n",
    "    for epoch in range(1, epochs+1):\n",
    "        print(f\"Epoch {epoch}\\n\")\n",
    "\n",
    "        model.to(device)\n",
    "\n",
    "        train_single_epoch(model=model,\n",
    "                           dataloader=train_dataloader,\n",
    "                           loss_fn=loss_fn,\n",
    "                           optimizer=optimizer,\n",
    "                           accuracy_fn=accuracy_fn,\n",
    "                           device=device)\n",
    "        \n",
    "        test_single_epoch(model=model,\n",
    "                          dataloader=test_dataloader,\n",
    "                          loss_fn=loss_fn,\n",
    "                          accuracy_fn=accuracy_fn,\n",
    "                          device=device)"
   ]
  },
  {
   "cell_type": "markdown",
   "metadata": {},
   "source": [
    "#### Loss Function and Optimizer for Non-Linear Network"
   ]
  },
  {
   "cell_type": "code",
   "execution_count": 27,
   "metadata": {},
   "outputs": [],
   "source": [
    "loss_fn = nn.CrossEntropyLoss()\n",
    "optimizer = torch.optim.SGD(model2.parameters(), lr=0.1)"
   ]
  },
  {
   "cell_type": "markdown",
   "metadata": {},
   "source": [
    "#### Train the Non-Linear Network"
   ]
  },
  {
   "cell_type": "code",
   "execution_count": null,
   "metadata": {},
   "outputs": [
    {
     "name": "stdout",
     "output_type": "stream",
     "text": [
      "Epoch 1\n",
      "\n",
      "Train Loss: 1.00283 | Train Acc: 63.12%\n",
      "Test loss: 0.77001 | Test acc: 71.79%\n",
      "\n",
      "Epoch 2\n",
      "\n",
      "Train Loss: 0.73487 | Train Acc: 73.04%\n",
      "Test loss: 0.76459 | Test acc: 72.11%\n",
      "\n",
      "Epoch 3\n",
      "\n",
      "Train Loss: 0.70131 | Train Acc: 74.08%\n",
      "Test loss: 0.70529 | Test acc: 73.85%\n",
      "\n",
      "Elapsed time on device cuda: 123.909515 seconds.\n"
     ]
    }
   ],
   "source": [
    "# start time for calculating train time \n",
    "train_start_time_on_gpu = timer()\n",
    "\n",
    "torch.manual_seed(7)\n",
    "torch.cuda.manual_seed(7)\n",
    "train_model(model=model2,\n",
    "            train_dataloader=train_dataloader,\n",
    "            test_dataloader=test_dataloader,\n",
    "            epochs=3,\n",
    "            loss_fn=loss_fn,\n",
    "            optimizer=optimizer,\n",
    "            accuracy_fn=accuracy_fn,\n",
    "            device=device)\n",
    "\n",
    "# stop time for calculating train time \n",
    "train_stop_time_on_gpu = timer()\n",
    "\n",
    "model2_train_time = print_train_time(\n",
    "    train_start_time_on_gpu, train_stop_time_on_gpu, device)"
   ]
  },
  {
   "cell_type": "markdown",
   "metadata": {},
   "source": [
    "#### Evaluate the Non-Linear Network"
   ]
  },
  {
   "cell_type": "code",
   "execution_count": 29,
   "metadata": {},
   "outputs": [
    {
     "name": "stderr",
     "output_type": "stream",
     "text": [
      "100%|██████████| 313/313 [00:04<00:00, 69.42it/s]\n"
     ]
    }
   ],
   "source": [
    "model2_results = eval_model(model2, test_dataloader, loss_fn, accuracy_fn, device)"
   ]
  },
  {
   "cell_type": "markdown",
   "metadata": {},
   "source": [
    "### Creating a Convolutional Neural Network\n",
    "\n",
    "**About CNN:**\n",
    "- https://en.wikipedia.org/wiki/Convolutional_neural_network\n",
    "- A video by IBM: https://youtu.be/QzY57FaENXg?feature=shared\n",
    "- Convolution by 3Blue1Brown: https://youtu.be/KuXjwB4LzSA?feature=shared\n",
    "\n",
    "[TinyVGG](https://poloclub.github.io/cnn-explainer/) network created with PyTorch to classify the dataset.\n",
    "\n",
    "A convolutional network consists of 2 main parts:\n",
    "1. One or more convolutional block as feature extractor\n",
    "2. Fully connected layer as classifier"
   ]
  },
  {
   "cell_type": "code",
   "execution_count": 30,
   "metadata": {},
   "outputs": [],
   "source": [
    "class FashionMNISTModelv3(nn.Module):\n",
    "    def __init__(self, input_shape: int, units: int, output_shape: \n",
    "                 int, kernel_size: int|tuple, stride, padding):\n",
    "        super().__init__()\n",
    "\n",
    "        self.conv_0 = nn.Sequential(\n",
    "            nn.Conv2d(in_channels=input_shape, out_channels=units,\n",
    "                      kernel_size=kernel_size, stride=stride, padding=padding),\n",
    "            nn.ReLU(),\n",
    "            nn.Conv2d(in_channels=units, out_channels=units,\n",
    "                      kernel_size=kernel_size, stride=stride, padding=padding),\n",
    "            nn.ReLU(),\n",
    "            nn.MaxPool2d(kernel_size=2)\n",
    "        )\n",
    "\n",
    "        self.conv_1 = nn.Sequential(\n",
    "            nn.Conv2d(in_channels=units, out_channels=units,\n",
    "                      kernel_size=kernel_size, stride=stride, padding=padding),\n",
    "            nn.ReLU(),\n",
    "            nn.Conv2d(in_channels=units, out_channels=units,\n",
    "                      kernel_size=kernel_size, stride=stride, padding=padding),\n",
    "            nn.ReLU(),\n",
    "            nn.MaxPool2d(kernel_size=2),\n",
    "        )\n",
    "\n",
    "        self.classifier = nn.Sequential(\n",
    "            nn.Flatten(),\n",
    "            nn.Linear(in_features=units*7*7, out_features=output_shape),\n",
    "            # nn.LazyLinear(output_shape) # Linear output can be calculated in runtime\n",
    "            # or in forward method.\n",
    "            # self.fc = None \n",
    "            # (forward method)\n",
    "            # if self.fc is None:\n",
    "            #     # Dynamically create the linear layer based on the feature size\n",
    "            #     self.fc = nn.Linear(x.size(1), 10)\n",
    "            #     x = self.fc(x)\n",
    "            # or just calculate yourself\n",
    "            # or just print out shape in forward method \n",
    "        )\n",
    "\n",
    "    def forward(self, x):\n",
    "        x = self.conv_0(x)\n",
    "        # print(x.shape)\n",
    "        x = self.conv_1(x)\n",
    "        # print(x.shape)\n",
    "        x = self.classifier(x)\n",
    "\n",
    "        return x"
   ]
  },
  {
   "cell_type": "code",
   "execution_count": 31,
   "metadata": {},
   "outputs": [],
   "source": [
    "torch.manual_seed(7)\n",
    "torch.cuda.manual_seed(7)\n",
    "\n",
    "model3 = FashionMNISTModelv3(input_shape=1, # number of color channels\n",
    "                             units=10,\n",
    "                             output_shape=len(train_dataset.classes),\n",
    "                             kernel_size=3,\n",
    "                             stride=1,\n",
    "                             padding=1\n",
    "                             )"
   ]
  },
  {
   "cell_type": "markdown",
   "metadata": {},
   "source": [
    "#### Loss Function and Optimizer for CNN"
   ]
  },
  {
   "cell_type": "code",
   "execution_count": 32,
   "metadata": {},
   "outputs": [],
   "source": [
    "loss_fn = nn.CrossEntropyLoss()\n",
    "optimizer = torch.optim.SGD(model3.parameters(), lr=0.1)"
   ]
  },
  {
   "cell_type": "markdown",
   "metadata": {},
   "source": [
    "#### Training a CNN\n",
    "\n",
    "Nothing different. In a linear unit, weight and bias was the learnable parameters. Similarly kernels are the structures holding weights and biasses to create feature maps as learnable parameters.\n",
    "\n",
    "As can be seen, same train function used for CNN model."
   ]
  },
  {
   "cell_type": "code",
   "execution_count": 33,
   "metadata": {},
   "outputs": [
    {
     "name": "stdout",
     "output_type": "stream",
     "text": [
      "Epoch 1\n",
      "\n",
      "Train Loss: 0.63445 | Train Acc: 77.11%\n",
      "Test loss: 0.40330 | Test acc: 85.05%\n",
      "\n",
      "Epoch 2\n",
      "\n",
      "Train Loss: 0.35826 | Train Acc: 87.09%\n",
      "Test loss: 0.34139 | Test acc: 87.48%\n",
      "\n",
      "Epoch 3\n",
      "\n",
      "Train Loss: 0.31369 | Train Acc: 88.79%\n",
      "Test loss: 0.31931 | Test acc: 88.70%\n",
      "\n",
      "Elapsed time on device cuda: 118.684965 seconds.\n"
     ]
    }
   ],
   "source": [
    "train_cnn_start_time = timer()\n",
    "\n",
    "torch.manual_seed(7)\n",
    "torch.cuda.manual_seed(7)\n",
    "\n",
    "train_model(model=model3, \n",
    "            train_dataloader=train_dataloader, \n",
    "            test_dataloader=test_dataloader, \n",
    "            epochs=3,\n",
    "            loss_fn=loss_fn,\n",
    "            optimizer=optimizer,\n",
    "            accuracy_fn=accuracy_fn,\n",
    "            device=device)\n",
    "\n",
    "train_cnn_stop_time = timer()\n",
    "\n",
    "model3_train_time = print_train_time(\n",
    "    train_cnn_start_time, train_cnn_stop_time, device)"
   ]
  },
  {
   "cell_type": "markdown",
   "metadata": {},
   "source": [
    "#### Evaluation of CNN Model"
   ]
  },
  {
   "cell_type": "code",
   "execution_count": 34,
   "metadata": {},
   "outputs": [
    {
     "name": "stderr",
     "output_type": "stream",
     "text": [
      "100%|██████████| 313/313 [00:05<00:00, 60.44it/s]\n"
     ]
    }
   ],
   "source": [
    "model3_results = eval_model(model3, test_dataloader, loss_fn, accuracy_fn, device)"
   ]
  },
  {
   "cell_type": "markdown",
   "metadata": {},
   "source": [
    "## Evaluation of Evaluations\n",
    "\n",
    "Time to group and visualize the knowledge gained by training.\n",
    "\n",
    "Let's start with accuracies of each trained model."
   ]
  },
  {
   "cell_type": "code",
   "execution_count": 35,
   "metadata": {},
   "outputs": [
    {
     "data": {
      "text/html": [
       "<div>\n",
       "<style scoped>\n",
       "    .dataframe tbody tr th:only-of-type {\n",
       "        vertical-align: middle;\n",
       "    }\n",
       "\n",
       "    .dataframe tbody tr th {\n",
       "        vertical-align: top;\n",
       "    }\n",
       "\n",
       "    .dataframe thead th {\n",
       "        text-align: right;\n",
       "    }\n",
       "</style>\n",
       "<table border=\"1\" class=\"dataframe\">\n",
       "  <thead>\n",
       "    <tr style=\"text-align: right;\">\n",
       "      <th></th>\n",
       "      <th>model_name</th>\n",
       "      <th>loss</th>\n",
       "      <th>accuracy</th>\n",
       "    </tr>\n",
       "  </thead>\n",
       "  <tbody>\n",
       "    <tr>\n",
       "      <th>0</th>\n",
       "      <td>FashionMNISTModelv1</td>\n",
       "      <td>0.469916</td>\n",
       "      <td>83.416534</td>\n",
       "    </tr>\n",
       "    <tr>\n",
       "      <th>1</th>\n",
       "      <td>FashionMNISTModelv2</td>\n",
       "      <td>0.705292</td>\n",
       "      <td>73.851837</td>\n",
       "    </tr>\n",
       "    <tr>\n",
       "      <th>2</th>\n",
       "      <td>FashionMNISTModelv3</td>\n",
       "      <td>0.319310</td>\n",
       "      <td>88.698083</td>\n",
       "    </tr>\n",
       "  </tbody>\n",
       "</table>\n",
       "</div>"
      ],
      "text/plain": [
       "            model_name      loss   accuracy\n",
       "0  FashionMNISTModelv1  0.469916  83.416534\n",
       "1  FashionMNISTModelv2  0.705292  73.851837\n",
       "2  FashionMNISTModelv3  0.319310  88.698083"
      ]
     },
     "execution_count": 35,
     "metadata": {},
     "output_type": "execute_result"
    }
   ],
   "source": [
    "import pandas as pd\n",
    "\n",
    "results_df = pd.DataFrame([model1_results,\n",
    "                           model2_results,\n",
    "                           model3_results])\n",
    "results_df"
   ]
  },
  {
   "cell_type": "markdown",
   "metadata": {},
   "source": [
    "Then add training time elapsed for each model. Train time can be important metric for situations like the training hardware a cloud environment and is billed hourly. If a model shown competitive enough but slightly lower performance and lower training time it can be desirable instead of a model with slightly higher performance but higher train time.\n",
    "\n",
    "We can se from the table below, training on GPU is actually slower compared to CPU training. Might be confusing considering a GPU is capable of handling matrix multiplications faster. But data has to be copied/transferred to GPU and this single handedly can create an overhead and slow down the training process. This is a good example of this situation. \n",
    "\n",
    "**Note:** Depending on the hardware you are running, your mileage may vary."
   ]
  },
  {
   "cell_type": "code",
   "execution_count": 36,
   "metadata": {},
   "outputs": [
    {
     "data": {
      "text/html": [
       "<div>\n",
       "<style scoped>\n",
       "    .dataframe tbody tr th:only-of-type {\n",
       "        vertical-align: middle;\n",
       "    }\n",
       "\n",
       "    .dataframe tbody tr th {\n",
       "        vertical-align: top;\n",
       "    }\n",
       "\n",
       "    .dataframe thead th {\n",
       "        text-align: right;\n",
       "    }\n",
       "</style>\n",
       "<table border=\"1\" class=\"dataframe\">\n",
       "  <thead>\n",
       "    <tr style=\"text-align: right;\">\n",
       "      <th></th>\n",
       "      <th>model_name</th>\n",
       "      <th>loss</th>\n",
       "      <th>accuracy</th>\n",
       "      <th>training_time</th>\n",
       "    </tr>\n",
       "  </thead>\n",
       "  <tbody>\n",
       "    <tr>\n",
       "      <th>0</th>\n",
       "      <td>FashionMNISTModelv1</td>\n",
       "      <td>0.469916</td>\n",
       "      <td>83.416534</td>\n",
       "      <td>108.482765</td>\n",
       "    </tr>\n",
       "    <tr>\n",
       "      <th>1</th>\n",
       "      <td>FashionMNISTModelv2</td>\n",
       "      <td>0.705292</td>\n",
       "      <td>73.851837</td>\n",
       "      <td>123.909515</td>\n",
       "    </tr>\n",
       "    <tr>\n",
       "      <th>2</th>\n",
       "      <td>FashionMNISTModelv3</td>\n",
       "      <td>0.319310</td>\n",
       "      <td>88.698083</td>\n",
       "      <td>118.684965</td>\n",
       "    </tr>\n",
       "  </tbody>\n",
       "</table>\n",
       "</div>"
      ],
      "text/plain": [
       "            model_name      loss   accuracy  training_time\n",
       "0  FashionMNISTModelv1  0.469916  83.416534     108.482765\n",
       "1  FashionMNISTModelv2  0.705292  73.851837     123.909515\n",
       "2  FashionMNISTModelv3  0.319310  88.698083     118.684965"
      ]
     },
     "execution_count": 36,
     "metadata": {},
     "output_type": "execute_result"
    }
   ],
   "source": [
    "results_df[\"training_time\"] = [model1_train_time, model2_train_time, model3_train_time]\n",
    "\n",
    "results_df"
   ]
  },
  {
   "cell_type": "code",
   "execution_count": 37,
   "metadata": {},
   "outputs": [
    {
     "data": {
      "text/plain": [
       "<Axes: xlabel='Accuracy (%)', ylabel='Model Name'>"
      ]
     },
     "execution_count": 37,
     "metadata": {},
     "output_type": "execute_result"
    },
    {
     "data": {
      "image/png": "[encoded data removed]",
      "text/plain": [
       "<Figure size 640x480 with 1 Axes>"
      ]
     },
     "metadata": {},
     "output_type": "display_data"
    }
   ],
   "source": [
    "results_df.set_index(\"model_name\")[\"accuracy\"].plot(kind=\"barh\", xlabel=\"Accuracy (%)\", ylabel=\"Model Name\", grid=True)"
   ]
  },
  {
   "cell_type": "markdown",
   "metadata": {},
   "source": [
    "A helper function similar to `eval_model` but returns labels."
   ]
  },
  {
   "cell_type": "code",
   "execution_count": 80,
   "metadata": {},
   "outputs": [],
   "source": [
    "def make_predictions(model: torch.nn.Module, data: list, device: str):\n",
    "    model.eval()\n",
    "    model.to(device)\n",
    "\n",
    "    \"\"\"\n",
    "    Runs inference with the given model on given data list and returns the predicted labels as tensor.\n",
    "    \"\"\"\n",
    "\n",
    "    with torch.inference_mode():\n",
    "        preds = []\n",
    "        for x in data:\n",
    "            # Add one dimension to beginning to simulate batch size of 1.\n",
    "            # Then carry to target device.\n",
    "            x = x.unsqueeze(dim=0).to(device)\n",
    "            \n",
    "            # Make predictions\n",
    "            logit = model(x)\n",
    "\n",
    "            # Remove extra dimension on logits,\n",
    "            # apply softmax for prediction probabilities,\n",
    "            # then take the prediction label.\n",
    "            pred = logit.squeeze().softmax(dim=0).argmax(dim=0)\n",
    "\n",
    "            # Add prediction to return list.\n",
    "            preds.append(pred)\n",
    "    \n",
    "    # Return the predictions as tensor.\n",
    "    return torch.stack(preds)"
   ]
  },
  {
   "cell_type": "markdown",
   "metadata": {},
   "source": [
    "Get random samples from test dataset."
   ]
  },
  {
   "cell_type": "code",
   "execution_count": 105,
   "metadata": {},
   "outputs": [
    {
     "data": {
      "text/plain": [
       "torch.Size([1, 28, 28])"
      ]
     },
     "execution_count": 105,
     "metadata": {},
     "output_type": "execute_result"
    }
   ],
   "source": [
    "import random\n",
    "\n",
    "# random.seed(7)\n",
    "sample_images = []\n",
    "sample_labels = []\n",
    "for image, label in random.sample(list(test_dataset), k=9):\n",
    "    sample_images.append(image)\n",
    "    sample_labels.append(label)\n",
    "\n",
    "sample_images[0].shape"
   ]
  },
  {
   "cell_type": "code",
   "execution_count": 106,
   "metadata": {},
   "outputs": [
    {
     "data": {
      "text/plain": [
       "(-0.5, 27.5, 27.5, -0.5)"
      ]
     },
     "execution_count": 106,
     "metadata": {},
     "output_type": "execute_result"
    },
    {
     "data": {
      "image/png": "[encoded data removed]",
      "text/plain": [
       "<Figure size 640x480 with 1 Axes>"
      ]
     },
     "metadata": {},
     "output_type": "display_data"
    }
   ],
   "source": [
    "plt.imshow(sample_images[0].squeeze(), cmap=\"gray\")\n",
    "plt.title(test_dataset.classes[sample_labels[0]])\n",
    "plt.axis(False)"
   ]
  },
  {
   "cell_type": "markdown",
   "metadata": {},
   "source": [
    "Run inference on random samples and compare with ground truth labels."
   ]
  },
  {
   "cell_type": "code",
   "execution_count": 107,
   "metadata": {},
   "outputs": [
    {
     "data": {
      "text/plain": [
       "(tensor([9, 9, 5, 9, 4, 6, 4, 9, 4], device='cuda:0'),\n",
       " [9, 9, 5, 9, 4, 6, 4, 9, 2])"
      ]
     },
     "execution_count": 107,
     "metadata": {},
     "output_type": "execute_result"
    }
   ],
   "source": [
    "sample_preds = make_predictions(model=model3, data=sample_images, device=device)\n",
    "\n",
    "sample_preds, sample_labels"
   ]
  },
  {
   "cell_type": "code",
   "execution_count": 108,
   "metadata": {},
   "outputs": [
    {
     "data": {
      "image/png": "[encoded data removed]",
      "text/plain": [
       "<Figure size 1000x1000 with 9 Axes>"
      ]
     },
     "metadata": {},
     "output_type": "display_data"
    }
   ],
   "source": [
    "# Plot samples\n",
    "plt.figure(figsize=(10, 10))\n",
    "nrows, ncols = 3, 3\n",
    "\n",
    "for i, sample in enumerate(sample_images):\n",
    "    plt.subplot(nrows, ncols, i+1)\n",
    "    plt.imshow(sample.squeeze(), cmap=\"gray\")\n",
    "    \n",
    "    # Get prediction class names\n",
    "    pred_class = test_dataset.classes[sample_preds[i]]\n",
    "\n",
    "    # Get ground truth class\n",
    "    true_class = test_dataset.classes[sample_labels[i]]\n",
    "\n",
    "    title_text = f\"Pred: {pred_class}, Label: {true_class}\"\n",
    "\n",
    "    if(true_class == pred_class):\n",
    "        plt.title(title_text, fontsize=10, c=\"g\")\n",
    "    else:\n",
    "        plt.title(title_text, fontsize=10, c=\"r\")\n",
    "\n",
    "    plt.axis(False)\n",
    "    "
   ]
  },
  {
   "cell_type": "markdown",
   "metadata": {},
   "source": [
    "### Plotting a Confusion Matrix"
   ]
  },
  {
   "cell_type": "code",
   "execution_count": 119,
   "metadata": {},
   "outputs": [
    {
     "name": "stderr",
     "output_type": "stream",
     "text": [
      "100%|██████████| 313/313 [00:07<00:00, 42.23it/s]\n"
     ]
    },
    {
     "data": {
      "text/plain": [
       "10000"
      ]
     },
     "execution_count": 119,
     "metadata": {},
     "output_type": "execute_result"
    }
   ],
   "source": [
    "test_pred_labels = []\n",
    "\n",
    "model3.to(device)\n",
    "model3.eval()\n",
    "\n",
    "with torch.inference_mode():\n",
    "    for image, label in tqdm(test_dataloader):\n",
    "        image, label = image.to(device), label.to(device)\n",
    "\n",
    "        # Make predictions - dataloader already bathed no need to add dimension.\n",
    "        logit = model3(image)\n",
    "\n",
    "        # logit -> prediction probability -> prediction label\n",
    "        pred = logit.squeeze().softmax(dim=0).argmax(dim=1)\n",
    "    \n",
    "        test_pred_labels.append(pred.cpu())\n",
    "\n",
    "test_pred_labels_tensor = torch.cat(test_pred_labels)\n",
    "len(test_pred_labels_tensor)"
   ]
  },
  {
   "cell_type": "code",
   "execution_count": 123,
   "metadata": {},
   "outputs": [
    {
     "data": {
      "text/plain": [
       "tensor([[674,   5,  26,  63,   7,   0, 218,   0,   7,   0],\n",
       "        [  5, 844,   5, 112,  24,   0,   9,   0,   1,   0],\n",
       "        [ 13,   4, 761,  22, 108,   0,  89,   0,   2,   1],\n",
       "        [ 20,   7,  11, 871,  47,   0,  37,   0,   6,   1],\n",
       "        [  3,   3,  95,  45, 761,   0,  89,   0,   3,   1],\n",
       "        [ 11,   1,   0,  12,   2, 772,   2,  98,  78,  24],\n",
       "        [ 88,   5,  92,  58,  89,   0, 656,   0,  12,   0],\n",
       "        [  0,   1,   0,   0,   0,  25,   1, 914,  15,  44],\n",
       "        [  6,   2,   5,  12,  13,   3,  14,   6, 938,   1],\n",
       "        [  2,   0,   0,   3,   0,  24,   7,  71,  17, 876]])"
      ]
     },
     "execution_count": 123,
     "metadata": {},
     "output_type": "execute_result"
    }
   ],
   "source": [
    "from torchmetrics import ConfusionMatrix\n",
    "from mlxtend.plotting import plot_confusion_matrix\n",
    "\n",
    "# https://lightning.ai/docs/torchmetrics/stable/classification/confusion_matrix.html\n",
    "conf_mat = ConfusionMatrix(task=\"multiclass\", num_classes=len(train_dataset.classes))\n",
    "conf_mat_tensor = conf_mat(preds=test_pred_labels_tensor, target=test_dataset.targets)\n",
    "\n",
    "conf_mat_tensor"
   ]
  },
  {
   "cell_type": "code",
   "execution_count": 133,
   "metadata": {},
   "outputs": [
    {
     "data": {
      "image/png": "[encoded data removed]",
      "text/plain": [
       "<Figure size 1000x700 with 1 Axes>"
      ]
     },
     "metadata": {},
     "output_type": "display_data"
    }
   ],
   "source": [
    "# https://rasbt.github.io/mlxtend/user_guide/plotting/plot_confusion_matrix/\n",
    "fig, ax = plot_confusion_matrix(conf_mat=conf_mat_tensor.numpy(),\n",
    "                                    class_names=test_dataset.classes,\n",
    "                                    figsize=(10,7),\n",
    "                                    # show_normed=True,\n",
    "                                    # show_absolute=False,\n",
    "                                    # colorbar=True\n",
    "                                    )"
   ]
  },
  {
   "cell_type": "markdown",
   "metadata": {},
   "source": [
    "## Saving Best Performed Model"
   ]
  },
  {
   "cell_type": "code",
   "execution_count": 134,
   "metadata": {},
   "outputs": [
    {
     "name": "stdout",
     "output_type": "stream",
     "text": [
      "Saving model to models\\FashionMNIST_cnn_model.pth\n"
     ]
    }
   ],
   "source": [
    "from pathlib import Path\n",
    "\n",
    "MODEL_PATH = Path(\"models\")\n",
    "MODEL_PATH.mkdir(parents=True, exist_ok=True)\n",
    "\n",
    "MODEL_NAME = \"FashionMNIST_cnn_model.pth\"\n",
    "SAVE_PATH = MODEL_PATH / MODEL_NAME\n",
    "\n",
    "print(f\"Saving model to {SAVE_PATH}\")\n",
    "torch.save(obj=model3.state_dict(), f=SAVE_PATH)"
   ]
  },
  {
   "cell_type": "markdown",
   "metadata": {},
   "source": [
    "## Loading Best Performed Model"
   ]
  },
  {
   "cell_type": "code",
   "execution_count": 136,
   "metadata": {},
   "outputs": [
    {
     "data": {
      "text/plain": [
       "FashionMNISTModelv3(\n",
       "  (conv_0): Sequential(\n",
       "    (0): Conv2d(1, 10, kernel_size=(3, 3), stride=(1, 1), padding=(1, 1))\n",
       "    (1): ReLU()\n",
       "    (2): Conv2d(10, 10, kernel_size=(3, 3), stride=(1, 1), padding=(1, 1))\n",
       "    (3): ReLU()\n",
       "    (4): MaxPool2d(kernel_size=2, stride=2, padding=0, dilation=1, ceil_mode=False)\n",
       "  )\n",
       "  (conv_1): Sequential(\n",
       "    (0): Conv2d(10, 10, kernel_size=(3, 3), stride=(1, 1), padding=(1, 1))\n",
       "    (1): ReLU()\n",
       "    (2): Conv2d(10, 10, kernel_size=(3, 3), stride=(1, 1), padding=(1, 1))\n",
       "    (3): ReLU()\n",
       "    (4): MaxPool2d(kernel_size=2, stride=2, padding=0, dilation=1, ceil_mode=False)\n",
       "  )\n",
       "  (classifier): Sequential(\n",
       "    (0): Flatten(start_dim=1, end_dim=-1)\n",
       "    (1): Linear(in_features=490, out_features=10, bias=True)\n",
       "  )\n",
       ")"
      ]
     },
     "execution_count": 136,
     "metadata": {},
     "output_type": "execute_result"
    }
   ],
   "source": [
    "# Create new instance of model to load weights\n",
    "loaded_model = FashionMNISTModelv3(input_shape=1, # number of color channels\n",
    "                                   units=10,\n",
    "                                   output_shape=len(train_dataset.classes),\n",
    "                                   kernel_size=3,\n",
    "                                   stride=1,\n",
    "                                   padding=1)\n",
    "\n",
    "loaded_model.load_state_dict(torch.load(f=SAVE_PATH, weights_only=True))\n",
    "\n",
    "loaded_model.to(device)"
   ]
  },
  {
   "cell_type": "markdown",
   "metadata": {},
   "source": [
    "## Evaluating Loaded Model"
   ]
  },
  {
   "cell_type": "code",
   "execution_count": 137,
   "metadata": {},
   "outputs": [
    {
     "name": "stderr",
     "output_type": "stream",
     "text": [
      "100%|██████████| 313/313 [00:08<00:00, 35.24it/s]\n"
     ]
    },
    {
     "data": {
      "text/plain": [
       "{'model_name': 'FashionMNISTModelv3',\n",
       " 'loss': 0.31930989027023315,\n",
       " 'accuracy': 88.69808306709265}"
      ]
     },
     "execution_count": 137,
     "metadata": {},
     "output_type": "execute_result"
    }
   ],
   "source": [
    "torch.manual_seed(7)\n",
    "\n",
    "loaded_results = eval_model(model=loaded_model, dataloader=test_dataloader, loss_fn=loss_fn, accuracy_fn=accuracy_fn)\n",
    "\n",
    "loaded_results"
   ]
  },
  {
   "cell_type": "markdown",
   "metadata": {},
   "source": [
    "Compare the Results of Loaded Model from Baseline Programmatically"
   ]
  },
  {
   "cell_type": "code",
   "execution_count": 150,
   "metadata": {},
   "outputs": [
    {
     "data": {
      "text/plain": [
       "tensor(True)"
      ]
     },
     "execution_count": 150,
     "metadata": {},
     "output_type": "execute_result"
    }
   ],
   "source": [
    "torch.isclose(torch.tensor(model3_results[\"loss\"]),\n",
    "              torch.tensor(loaded_results[\"loss\"]),\n",
    "              # atol=1e-2 # (optional) set tolerance\n",
    "              )"
   ]
  }
 ],
 "metadata": {
  "kernelspec": {
   "display_name": ".venv",
   "language": "python",
   "name": "python3"
  },
  "language_info": {
   "codemirror_mode": {
    "name": "ipython",
    "version": 3
   },
   "file_extension": ".py",
   "mimetype": "text/x-python",
   "name": "python",
   "nbconvert_exporter": "python",
   "pygments_lexer": "ipython3",
   "version": "3.11.5"
  }
 },
 "nbformat": 4,
 "nbformat_minor": 2
}
