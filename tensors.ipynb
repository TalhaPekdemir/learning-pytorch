{
 "cells": [
  {
   "cell_type": "markdown",
   "metadata": {},
   "source": [
    "# Tensors"
   ]
  },
  {
   "cell_type": "code",
   "execution_count": 162,
   "metadata": {},
   "outputs": [],
   "source": [
    "import torch"
   ]
  },
  {
   "cell_type": "markdown",
   "metadata": {},
   "source": [
    "- A tensor can have a single value or value with multiple dimensions.\n",
    "- An easy way of finding the dimensions of a tensor is basically counting the number of square brackets at the start.\n",
    "- The term tensor is so general. With a tensor many values with many dimensions can be represented.\n",
    "- Everything under this is also a tensor just with special names.\n",
    "\n",
    "- Default dtype of a tensor is float32"
   ]
  },
  {
   "cell_type": "markdown",
   "metadata": {},
   "source": [
    "A scalar means, has only one value."
   ]
  },
  {
   "cell_type": "code",
   "execution_count": 163,
   "metadata": {},
   "outputs": [
    {
     "data": {
      "text/plain": [
       "tensor(77)"
      ]
     },
     "execution_count": 163,
     "metadata": {},
     "output_type": "execute_result"
    }
   ],
   "source": [
    "# creating a scalar value\n",
    "scalar = torch.tensor(77)\n",
    "scalar"
   ]
  },
  {
   "cell_type": "code",
   "execution_count": 164,
   "metadata": {},
   "outputs": [
    {
     "name": "stdout",
     "output_type": "stream",
     "text": [
      "A scalar value has only a magnitude like 77 and has no directlion. Hence a scalar value is 0 dimensional.\n"
     ]
    }
   ],
   "source": [
    "print(f\"A scalar value has only a magnitude like {scalar.item()} and has no directlion. Hence a scalar value is {scalar.ndim} dimensional.\")"
   ]
  },
  {
   "cell_type": "markdown",
   "metadata": {},
   "source": [
    "A vector means has arbitrary values in single dimension."
   ]
  },
  {
   "cell_type": "code",
   "execution_count": 165,
   "metadata": {},
   "outputs": [
    {
     "data": {
      "text/plain": [
       "tensor([0, 2, 4, 6])"
      ]
     },
     "execution_count": 165,
     "metadata": {},
     "output_type": "execute_result"
    }
   ],
   "source": [
    "vector = torch.tensor([0, 2, 4, 6])\n",
    "vector"
   ]
  },
  {
   "cell_type": "code",
   "execution_count": 166,
   "metadata": {},
   "outputs": [
    {
     "name": "stdout",
     "output_type": "stream",
     "text": [
      "\n",
      "Dimensions of vector: 1\n",
      "Size of the vector: torch.Size([4])\n",
      "The vector has 4 elements.\n",
      "\n"
     ]
    }
   ],
   "source": [
    "# The term vector is used for an auto growing array in programming generally.\n",
    "# In physics a vector is a structure representing a magnitude and a direction.\n",
    "# In above, a row vector has created.\n",
    "print(f\"\"\"\n",
    "Dimensions of vector: {vector.ndim}\n",
    "Size of the vector: {vector.shape}\n",
    "The vector has {vector.shape[0]} elements.\n",
    "\"\"\")"
   ]
  },
  {
   "cell_type": "markdown",
   "metadata": {},
   "source": [
    "A matrix has at least 2 dimensions like a table."
   ]
  },
  {
   "cell_type": "code",
   "execution_count": 167,
   "metadata": {},
   "outputs": [
    {
     "data": {
      "text/plain": [
       "tensor([[1, 2],\n",
       "        [3, 4]])"
      ]
     },
     "execution_count": 167,
     "metadata": {},
     "output_type": "execute_result"
    }
   ],
   "source": [
    "matrix2D = torch.tensor([[1, 2],\n",
    "                         [3, 4]])\n",
    "matrix2D"
   ]
  },
  {
   "cell_type": "code",
   "execution_count": 168,
   "metadata": {},
   "outputs": [
    {
     "data": {
      "text/plain": [
       "2"
      ]
     },
     "execution_count": 168,
     "metadata": {},
     "output_type": "execute_result"
    }
   ],
   "source": [
    "matrix2D.ndim"
   ]
  },
  {
   "cell_type": "code",
   "execution_count": 169,
   "metadata": {},
   "outputs": [
    {
     "data": {
      "text/plain": [
       "torch.Size([2, 2])"
      ]
     },
     "execution_count": 169,
     "metadata": {},
     "output_type": "execute_result"
    }
   ],
   "source": [
    "matrix2D.shape"
   ]
  },
  {
   "cell_type": "markdown",
   "metadata": {},
   "source": [
    "Matrix of matrices are called a tensor."
   ]
  },
  {
   "cell_type": "code",
   "execution_count": 170,
   "metadata": {},
   "outputs": [
    {
     "data": {
      "text/plain": [
       "tensor([[[10, 11],\n",
       "         [12, 13],\n",
       "         [14, 15]]])"
      ]
     },
     "execution_count": 170,
     "metadata": {},
     "output_type": "execute_result"
    }
   ],
   "source": [
    "tensor = torch.tensor([[[10, 11],\n",
    "                        [12, 13],\n",
    "                        [14, 15],]])\n",
    "tensor"
   ]
  },
  {
   "cell_type": "code",
   "execution_count": 171,
   "metadata": {},
   "outputs": [
    {
     "data": {
      "text/plain": [
       "3"
      ]
     },
     "execution_count": 171,
     "metadata": {},
     "output_type": "execute_result"
    }
   ],
   "source": [
    "tensor.ndim"
   ]
  },
  {
   "cell_type": "code",
   "execution_count": 172,
   "metadata": {},
   "outputs": [
    {
     "data": {
      "text/plain": [
       "torch.Size([1, 3, 2])"
      ]
     },
     "execution_count": 172,
     "metadata": {},
     "output_type": "execute_result"
    }
   ],
   "source": [
    "tensor.shape"
   ]
  },
  {
   "cell_type": "code",
   "execution_count": 173,
   "metadata": {},
   "outputs": [
    {
     "data": {
      "text/plain": [
       "tensor([[10, 11],\n",
       "        [12, 13],\n",
       "        [14, 15]])"
      ]
     },
     "execution_count": 173,
     "metadata": {},
     "output_type": "execute_result"
    }
   ],
   "source": [
    "tensor[0]"
   ]
  },
  {
   "cell_type": "code",
   "execution_count": 174,
   "metadata": {},
   "outputs": [
    {
     "name": "stdout",
     "output_type": "stream",
     "text": [
      "Error:  index 1 is out of bounds for dimension 0 with size 1\n"
     ]
    }
   ],
   "source": [
    "# Will give error because only one table is initialized.\n",
    "# Think it about like rubix cube.\n",
    "try:\n",
    "    tensor[1]\n",
    "except Exception as e:\n",
    "    print(\"Error: \", e)"
   ]
  },
  {
   "cell_type": "markdown",
   "metadata": {},
   "source": [
    "![uninitialized_tensor.png](resources/uninitialized_tensor.png)"
   ]
  },
  {
   "cell_type": "code",
   "execution_count": 175,
   "metadata": {},
   "outputs": [
    {
     "data": {
      "text/plain": [
       "tensor([[[10, 11],\n",
       "         [12, 13],\n",
       "         [14, 15]],\n",
       "\n",
       "        [[20, 21],\n",
       "         [22, 23],\n",
       "         [24, 25]]])"
      ]
     },
     "execution_count": 175,
     "metadata": {},
     "output_type": "execute_result"
    }
   ],
   "source": [
    "tensor = torch.tensor([[[10, 11],\n",
    "                        [12, 13],\n",
    "                        [14, 15],],\n",
    "                       [[20, 21],\n",
    "                        [22, 23],\n",
    "                        [24, 25],]])\n",
    "tensor"
   ]
  },
  {
   "cell_type": "code",
   "execution_count": 176,
   "metadata": {},
   "outputs": [
    {
     "name": "stdout",
     "output_type": "stream",
     "text": [
      "\n",
      "new ndim: 3\n",
      "new shape torch.Size([2, 3, 2])\n",
      "\n"
     ]
    }
   ],
   "source": [
    "print(f\"\"\"\n",
    "new ndim: {tensor.ndim}\n",
    "new shape {tensor.shape}\n",
    "\"\"\")"
   ]
  },
  {
   "cell_type": "code",
   "execution_count": 177,
   "metadata": {},
   "outputs": [
    {
     "data": {
      "text/plain": [
       "tensor([[20, 21],\n",
       "        [22, 23],\n",
       "        [24, 25]])"
      ]
     },
     "execution_count": 177,
     "metadata": {},
     "output_type": "execute_result"
    }
   ],
   "source": [
    "tensor[1]"
   ]
  },
  {
   "cell_type": "code",
   "execution_count": 178,
   "metadata": {},
   "outputs": [
    {
     "name": "stdout",
     "output_type": "stream",
     "text": [
      "Error:  expected sequence of length 2 at dim 1 (got 1)\n"
     ]
    }
   ],
   "source": [
    "# Tensors must have matching dimensions.\n",
    "try:\n",
    "\n",
    "    jagged_tensor = torch.tensor([[1, 2],\n",
    "\n",
    "                                  [3]])\n",
    "\n",
    "except Exception as e:\n",
    "    print(\"Error: \", e)"
   ]
  },
  {
   "cell_type": "markdown",
   "metadata": {},
   "source": [
    "## Random Tensors"
   ]
  },
  {
   "cell_type": "code",
   "execution_count": 179,
   "metadata": {},
   "outputs": [
    {
     "data": {
      "text/plain": [
       "tensor([[0.0150, 0.2086],\n",
       "        [0.1634, 0.2820],\n",
       "        [0.2849, 0.1131]])"
      ]
     },
     "execution_count": 179,
     "metadata": {},
     "output_type": "execute_result"
    }
   ],
   "source": [
    "random_tensor = torch.rand(size=(3,2))\n",
    "random_tensor"
   ]
  },
  {
   "cell_type": "code",
   "execution_count": 180,
   "metadata": {},
   "outputs": [
    {
     "data": {
      "text/plain": [
       "torch.Size([3, 2])"
      ]
     },
     "execution_count": 180,
     "metadata": {},
     "output_type": "execute_result"
    }
   ],
   "source": [
    "random_tensor.shape"
   ]
  },
  {
   "cell_type": "markdown",
   "metadata": {},
   "source": [
    "## Tensor of Zeros"
   ]
  },
  {
   "cell_type": "code",
   "execution_count": 181,
   "metadata": {},
   "outputs": [
    {
     "data": {
      "text/plain": [
       "tensor([[0., 0., 0., 0., 0.],\n",
       "        [0., 0., 0., 0., 0.],\n",
       "        [0., 0., 0., 0., 0.],\n",
       "        [0., 0., 0., 0., 0.],\n",
       "        [0., 0., 0., 0., 0.]])"
      ]
     },
     "execution_count": 181,
     "metadata": {},
     "output_type": "execute_result"
    }
   ],
   "source": [
    "zeros_tensor = torch.zeros(size=(5, 5))\n",
    "zeros_tensor"
   ]
  },
  {
   "cell_type": "markdown",
   "metadata": {},
   "source": [
    "## Tensor of Ones"
   ]
  },
  {
   "cell_type": "code",
   "execution_count": 182,
   "metadata": {},
   "outputs": [
    {
     "data": {
      "text/plain": [
       "tensor([[1., 1.],\n",
       "        [1., 1.]])"
      ]
     },
     "execution_count": 182,
     "metadata": {},
     "output_type": "execute_result"
    }
   ],
   "source": [
    "ones_tensor = torch.ones(size=(2, 2))\n",
    "ones_tensor"
   ]
  },
  {
   "cell_type": "markdown",
   "metadata": {},
   "source": [
    "## Creating a Tensor in Range"
   ]
  },
  {
   "cell_type": "code",
   "execution_count": 183,
   "metadata": {},
   "outputs": [
    {
     "data": {
      "text/plain": [
       "tensor([1, 2, 3, 4, 5, 6, 7, 8, 9])"
      ]
     },
     "execution_count": 183,
     "metadata": {},
     "output_type": "execute_result"
    }
   ],
   "source": [
    "# Start inclusive, end exclusive: [start, end)\n",
    "range_tensor = torch.arange(start=1, end=10)\n",
    "range_tensor"
   ]
  },
  {
   "cell_type": "code",
   "execution_count": 184,
   "metadata": {},
   "outputs": [
    {
     "data": {
      "text/plain": [
       "tensor([0, 2, 4, 6, 8])"
      ]
     },
     "execution_count": 184,
     "metadata": {},
     "output_type": "execute_result"
    }
   ],
   "source": [
    "even_tensor = torch.arange(start=0, end=10, step=2)\n",
    "even_tensor"
   ]
  },
  {
   "cell_type": "code",
   "execution_count": 185,
   "metadata": {},
   "outputs": [
    {
     "data": {
      "text/plain": [
       "tensor([0, 0, 0, 0, 0, 0, 0, 0, 0])"
      ]
     },
     "execution_count": 185,
     "metadata": {},
     "output_type": "execute_result"
    }
   ],
   "source": [
    "# Creates a tensor in the same shape of input tensor\n",
    "zeros_like_tensor = torch.zeros_like(input=range_tensor)\n",
    "zeros_like_tensor"
   ]
  },
  {
   "cell_type": "markdown",
   "metadata": {},
   "source": [
    "## Important Tensor Parameters\n",
    "\n",
    "1. [Tensor dtype](https://pytorch.org/docs/stable/tensors.html#data-types) (eg. float32 - single precision, float16 - half precision)\n",
    "2. Tensor device (CPU or GPU)\n",
    "3. Tensor gradient (should pytorch watch the values inside)\n",
    "\n",
    "---\n",
    "\n",
    "- The default dtype is float32 but if not specified dtype will be automatically inferred. If all data is integer values, dtype will be int64.\n",
    "\n",
    "- If an operation performed between a tensor lives in GPU and other in memory (RAM), an error will occur.\n",
    "\n",
    "- If tensor shapes do not match for different operations' requirements, an error will occur."
   ]
  },
  {
   "cell_type": "code",
   "execution_count": 186,
   "metadata": {},
   "outputs": [
    {
     "data": {
      "text/plain": [
       "torch.float32"
      ]
     },
     "execution_count": 186,
     "metadata": {},
     "output_type": "execute_result"
    }
   ],
   "source": [
    "torch.get_default_dtype()"
   ]
  },
  {
   "cell_type": "code",
   "execution_count": 187,
   "metadata": {},
   "outputs": [
    {
     "data": {
      "text/plain": [
       "tensor([1, 9, 0, 3])"
      ]
     },
     "execution_count": 187,
     "metadata": {},
     "output_type": "execute_result"
    }
   ],
   "source": [
    "params_tensor = torch.tensor(data=[1, 9, 0, 3],\n",
    "                             dtype=None,\n",
    "                             device=None,\n",
    "                             requires_grad=False)\n",
    "params_tensor"
   ]
  },
  {
   "cell_type": "code",
   "execution_count": 188,
   "metadata": {},
   "outputs": [
    {
     "data": {
      "text/plain": [
       "torch.int64"
      ]
     },
     "execution_count": 188,
     "metadata": {},
     "output_type": "execute_result"
    }
   ],
   "source": [
    "params_tensor.dtype"
   ]
  },
  {
   "cell_type": "code",
   "execution_count": 189,
   "metadata": {},
   "outputs": [
    {
     "data": {
      "text/plain": [
       "tensor([1., 9., 0., 3.])"
      ]
     },
     "execution_count": 189,
     "metadata": {},
     "output_type": "execute_result"
    }
   ],
   "source": [
    "float32_tensor = torch.tensor(data=[1, 9, 0, 3],\n",
    "                              dtype=torch.float32)\n",
    "float32_tensor"
   ]
  },
  {
   "cell_type": "code",
   "execution_count": 190,
   "metadata": {},
   "outputs": [
    {
     "data": {
      "text/plain": [
       "torch.float32"
      ]
     },
     "execution_count": 190,
     "metadata": {},
     "output_type": "execute_result"
    }
   ],
   "source": [
    "float32_tensor.dtype"
   ]
  },
  {
   "cell_type": "code",
   "execution_count": 191,
   "metadata": {},
   "outputs": [
    {
     "name": "stdout",
     "output_type": "stream",
     "text": [
      "Tensor is neighbour with OS.\n"
     ]
    }
   ],
   "source": [
    "if float32_tensor.is_cuda:\n",
    "    print(\"Tensor living peacefully in GPU.\")\n",
    "else:\n",
    "    print(\"Tensor is neighbour with OS.\")"
   ]
  },
  {
   "cell_type": "code",
   "execution_count": 192,
   "metadata": {},
   "outputs": [
    {
     "data": {
      "text/plain": [
       "tensor([1., 9., 0., 3.], dtype=torch.float16)"
      ]
     },
     "execution_count": 192,
     "metadata": {},
     "output_type": "execute_result"
    }
   ],
   "source": [
    "float16_tensor = torch.tensor(data=[1, 9, 0, 3],\n",
    "                              dtype=torch.float16)\n",
    "float16_tensor"
   ]
  },
  {
   "cell_type": "markdown",
   "metadata": {},
   "source": [
    "No errors? Huh..."
   ]
  },
  {
   "cell_type": "code",
   "execution_count": 193,
   "metadata": {},
   "outputs": [],
   "source": [
    "result = float16_tensor * float32_tensor"
   ]
  },
  {
   "cell_type": "code",
   "execution_count": 194,
   "metadata": {},
   "outputs": [
    {
     "data": {
      "text/plain": [
       "torch.float32"
      ]
     },
     "execution_count": 194,
     "metadata": {},
     "output_type": "execute_result"
    }
   ],
   "source": [
    "result.dtype"
   ]
  },
  {
   "cell_type": "code",
   "execution_count": 195,
   "metadata": {},
   "outputs": [
    {
     "data": {
      "text/plain": [
       "tensor([ 1., 81.,  0.,  9.])"
      ]
     },
     "execution_count": 195,
     "metadata": {},
     "output_type": "execute_result"
    }
   ],
   "source": [
    "result.data"
   ]
  },
  {
   "cell_type": "markdown",
   "metadata": {},
   "source": [
    "## Tensor Manipulation\n",
    "\n",
    "- Supported basic operations like adding, subtracting, element-wise multiplying, division and matrix multiplication.\n",
    "- Besides matrix multipilcation with dot product, all operations made element-wise.\n",
    "- Operations return a new tensor. Original tensor is not touched.\n",
    "\n",
    "- Normal operands are accepted. But PyTorch also has built-in methods for tensor operations.\n",
    "- Operations can be made with constants or tensors."
   ]
  },
  {
   "cell_type": "code",
   "execution_count": 196,
   "metadata": {},
   "outputs": [],
   "source": [
    "op_tensor = torch.tensor([1, 2, 3])"
   ]
  },
  {
   "cell_type": "code",
   "execution_count": 197,
   "metadata": {},
   "outputs": [
    {
     "data": {
      "text/plain": [
       "tensor([6, 7, 8])"
      ]
     },
     "execution_count": 197,
     "metadata": {},
     "output_type": "execute_result"
    }
   ],
   "source": [
    "op_tensor + 5"
   ]
  },
  {
   "cell_type": "code",
   "execution_count": 198,
   "metadata": {},
   "outputs": [
    {
     "data": {
      "text/plain": [
       "tensor([-9, -8, -7])"
      ]
     },
     "execution_count": 198,
     "metadata": {},
     "output_type": "execute_result"
    }
   ],
   "source": [
    "op_tensor - 10"
   ]
  },
  {
   "cell_type": "code",
   "execution_count": 199,
   "metadata": {},
   "outputs": [
    {
     "data": {
      "text/plain": [
       "tensor([ 8, 16, 24])"
      ]
     },
     "execution_count": 199,
     "metadata": {},
     "output_type": "execute_result"
    }
   ],
   "source": [
    "op_tensor * 8"
   ]
  },
  {
   "cell_type": "code",
   "execution_count": 200,
   "metadata": {},
   "outputs": [
    {
     "data": {
      "text/plain": [
       "tensor([0.5000, 1.0000, 1.5000])"
      ]
     },
     "execution_count": 200,
     "metadata": {},
     "output_type": "execute_result"
    }
   ],
   "source": [
    "op_tensor / 2"
   ]
  },
  {
   "cell_type": "code",
   "execution_count": 201,
   "metadata": {},
   "outputs": [
    {
     "data": {
      "text/plain": [
       "tensor([6, 7, 8])"
      ]
     },
     "execution_count": 201,
     "metadata": {},
     "output_type": "execute_result"
    }
   ],
   "source": [
    "torch.add(op_tensor, 5)"
   ]
  },
  {
   "cell_type": "code",
   "execution_count": 202,
   "metadata": {},
   "outputs": [
    {
     "data": {
      "text/plain": [
       "tensor([-9, -8, -7])"
      ]
     },
     "execution_count": 202,
     "metadata": {},
     "output_type": "execute_result"
    }
   ],
   "source": [
    "torch.sub(op_tensor, 10)"
   ]
  },
  {
   "cell_type": "code",
   "execution_count": 203,
   "metadata": {},
   "outputs": [
    {
     "data": {
      "text/plain": [
       "tensor([ 8, 16, 24])"
      ]
     },
     "execution_count": 203,
     "metadata": {},
     "output_type": "execute_result"
    }
   ],
   "source": [
    "torch.mul(op_tensor, 8)"
   ]
  },
  {
   "cell_type": "code",
   "execution_count": 204,
   "metadata": {},
   "outputs": [
    {
     "data": {
      "text/plain": [
       "tensor([0.5000, 1.0000, 1.5000])"
      ]
     },
     "execution_count": 204,
     "metadata": {},
     "output_type": "execute_result"
    }
   ],
   "source": [
    "torch.div(op_tensor, 2)"
   ]
  },
  {
   "cell_type": "code",
   "execution_count": 205,
   "metadata": {},
   "outputs": [
    {
     "data": {
      "text/plain": [
       "tensor([0.0000, 0.6667, 0.8000])"
      ]
     },
     "execution_count": 205,
     "metadata": {},
     "output_type": "execute_result"
    }
   ],
   "source": [
    "# Another tensor\n",
    "tensor_A = torch.tensor([0, 2, 4])\n",
    "tensor_B = torch.tensor([1, 3, 5])\n",
    "\n",
    "torch.div(tensor_A, tensor_B)  # tensor([0, 6, 20])"
   ]
  },
  {
   "cell_type": "markdown",
   "metadata": {},
   "source": [
    "## Matrix Multiplication\n",
    "Rules:\n",
    "1. Inner dimensions should be the same.\n",
    "\n",
    "`(5, 2) @ (3, 12)` -> won't work\n",
    "\n",
    "`(5, 2) @ (2, 12)` -> will work\n",
    "\n",
    "2. Multiplication result will have the shape of outer dimensions.\n",
    "\n",
    "`(5,2) @ (2, 12)` -> `(5, 12)`"
   ]
  },
  {
   "cell_type": "code",
   "execution_count": 206,
   "metadata": {},
   "outputs": [],
   "source": [
    "matmul_tensor = torch.rand(1000)"
   ]
  },
  {
   "cell_type": "code",
   "execution_count": 207,
   "metadata": {},
   "outputs": [
    {
     "name": "stdout",
     "output_type": "stream",
     "text": [
      "tensor(310.2799)\n",
      "CPU times: total: 15.6 ms\n",
      "Wall time: 31 ms\n"
     ]
    }
   ],
   "source": [
    "%%time\n",
    "val = 0\n",
    "for i in range(len(matmul_tensor)):\n",
    "    val += matmul_tensor[i] * matmul_tensor[i]\n",
    "\n",
    "print(val)"
   ]
  },
  {
   "cell_type": "code",
   "execution_count": 208,
   "metadata": {},
   "outputs": [
    {
     "name": "stdout",
     "output_type": "stream",
     "text": [
      "tensor(310.2800)\n",
      "CPU times: total: 0 ns\n",
      "Wall time: 2 ms\n"
     ]
    }
   ],
   "source": [
    "%%time\n",
    "print(torch.matmul(matmul_tensor, matmul_tensor))"
   ]
  },
  {
   "cell_type": "code",
   "execution_count": 209,
   "metadata": {},
   "outputs": [
    {
     "name": "stdout",
     "output_type": "stream",
     "text": [
      "mat1 and mat2 shapes cannot be multiplied (3x2 and 3x2)\n"
     ]
    }
   ],
   "source": [
    "tensor_A = torch.tensor([[1, 2],\n",
    "                         [3, 4],\n",
    "                         [5, 6]])\n",
    "\n",
    "tensor_B = torch.tensor([[7, 10],\n",
    "                         [8, 11],\n",
    "                         [9, 12]])\n",
    "\n",
    "try:\n",
    "    torch.matmul(tensor_A, tensor_B)\n",
    "except Exception as e:\n",
    "    print(e)"
   ]
  },
  {
   "cell_type": "code",
   "execution_count": 210,
   "metadata": {},
   "outputs": [
    {
     "data": {
      "text/plain": [
       "tensor([[ 27,  30,  33],\n",
       "        [ 61,  68,  75],\n",
       "        [ 95, 106, 117]])"
      ]
     },
     "execution_count": 210,
     "metadata": {},
     "output_type": "execute_result"
    }
   ],
   "source": [
    "new_tensor_B = torch.tensor([[7, 8, 9],\n",
    "                             [10, 11, 12]])\n",
    "\n",
    "torch.matmul(tensor_A, new_tensor_B)"
   ]
  },
  {
   "cell_type": "markdown",
   "metadata": {},
   "source": [
    "### Transpose of a Matrix"
   ]
  },
  {
   "cell_type": "code",
   "execution_count": 211,
   "metadata": {},
   "outputs": [
    {
     "name": "stdout",
     "output_type": "stream",
     "text": [
      "tensor([[ 7,  8,  9],\n",
      "        [10, 11, 12]])\n",
      "tensor_B shape: torch.Size([2, 3])\n"
     ]
    }
   ],
   "source": [
    "print(tensor_B.T)\n",
    "print(\"tensor_B shape:\", tensor_B.T.shape)"
   ]
  },
  {
   "cell_type": "code",
   "execution_count": 212,
   "metadata": {},
   "outputs": [
    {
     "name": "stdout",
     "output_type": "stream",
     "text": [
      "\n",
      "Tensor shape of A: torch.Size([3, 2])\n",
      "Tensor shape of B: torch.Size([3, 2])\n",
      "Tensor shape of transposed A: torch.Size([2, 3]) \n",
      "Tensor shape of transposed B: torch.Size([2, 3])\n",
      "Tensor shape of A and B matrix multiplied torch.Size([3, 3])\n",
      "\n"
     ]
    }
   ],
   "source": [
    "print(f\"\"\"\n",
    "Tensor shape of A: {tensor_A.shape}\n",
    "Tensor shape of B: {tensor_B.shape}\n",
    "Tensor shape of transposed A: {tensor_A.T.shape} \n",
    "Tensor shape of transposed B: {tensor_B.T.shape}\n",
    "Tensor shape of A and B matrix multiplied {torch.matmul(tensor_A, tensor_B.T).shape}\n",
    "\"\"\")"
   ]
  },
  {
   "cell_type": "code",
   "execution_count": 213,
   "metadata": {},
   "outputs": [
    {
     "data": {
      "text/plain": [
       "tensor([[ 27,  30,  33],\n",
       "        [ 61,  68,  75],\n",
       "        [ 95, 106, 117]])"
      ]
     },
     "execution_count": 213,
     "metadata": {},
     "output_type": "execute_result"
    }
   ],
   "source": [
    "torch.matmul(tensor_A, tensor_B.T)"
   ]
  },
  {
   "cell_type": "markdown",
   "metadata": {},
   "source": [
    "## Tensor Aggregation\n",
    "\n",
    "- Finding the min, max, mean, sum..."
   ]
  },
  {
   "cell_type": "code",
   "execution_count": 214,
   "metadata": {},
   "outputs": [
    {
     "data": {
      "text/plain": [
       "(tensor([1, 2, 3, 4, 5, 6, 7, 8, 9]), torch.int64)"
      ]
     },
     "execution_count": 214,
     "metadata": {},
     "output_type": "execute_result"
    }
   ],
   "source": [
    "agg_tensor = torch.arange(1, 10)\n",
    "agg_tensor, agg_tensor.dtype\n"
   ]
  },
  {
   "cell_type": "markdown",
   "metadata": {},
   "source": [
    "### Min"
   ]
  },
  {
   "cell_type": "code",
   "execution_count": 215,
   "metadata": {},
   "outputs": [
    {
     "data": {
      "text/plain": [
       "(tensor(1), tensor(1))"
      ]
     },
     "execution_count": 215,
     "metadata": {},
     "output_type": "execute_result"
    }
   ],
   "source": [
    "# Either use tensor function directly or use torch function and pass the tensor\n",
    "agg_tensor.min(), torch.min(agg_tensor)"
   ]
  },
  {
   "cell_type": "markdown",
   "metadata": {},
   "source": [
    "### Max"
   ]
  },
  {
   "cell_type": "code",
   "execution_count": 216,
   "metadata": {},
   "outputs": [
    {
     "data": {
      "text/plain": [
       "(tensor(9), tensor(9))"
      ]
     },
     "execution_count": 216,
     "metadata": {},
     "output_type": "execute_result"
    }
   ],
   "source": [
    "agg_tensor.max(), torch.max(agg_tensor)"
   ]
  },
  {
   "cell_type": "markdown",
   "metadata": {},
   "source": [
    "### Mean"
   ]
  },
  {
   "cell_type": "code",
   "execution_count": 217,
   "metadata": {},
   "outputs": [
    {
     "name": "stdout",
     "output_type": "stream",
     "text": [
      "mean(): could not infer output dtype. Input dtype must be either a floating point or complex dtype. Got: Long\n"
     ]
    }
   ],
   "source": [
    "# Mean excepts a float or complex number input\n",
    "# https://pytorch.org/docs/stable/generated/torch.mean.html\n",
    "try:\n",
    "    agg_tensor.mean()\n",
    "except Exception as e:\n",
    "    print(e)"
   ]
  },
  {
   "cell_type": "code",
   "execution_count": 218,
   "metadata": {},
   "outputs": [
    {
     "name": "stdout",
     "output_type": "stream",
     "text": [
      "With tensor method:  tensor(5.)\n",
      "With tensor method but input casted before: tensor(5.)\n",
      "With torch methods:  tensor(5.)\n"
     ]
    }
   ],
   "source": [
    "# Either use optional dtype parameter to specify both dtype of returned tensor\n",
    "# and cast input tensor before operation\n",
    "print(\"With tensor method: \", agg_tensor.mean(dtype=torch.float32))\n",
    "\n",
    "# Or cast it before using if not sure.\n",
    "print(\"With tensor method but input casted before:\", \n",
    "      agg_tensor.type(torch.float32).mean())\n",
    "\n",
    "# Similar to min and max, mean can be calculated with torch methods.\n",
    "# Beware that input tensor still needed to be casted to suppoted dtype.\n",
    "print(\"With torch methods: \", torch.mean(agg_tensor.type(torch.float32)))"
   ]
  },
  {
   "cell_type": "markdown",
   "metadata": {},
   "source": [
    "### Sum"
   ]
  },
  {
   "cell_type": "code",
   "execution_count": 219,
   "metadata": {},
   "outputs": [
    {
     "data": {
      "text/plain": [
       "(tensor(45), tensor(45))"
      ]
     },
     "execution_count": 219,
     "metadata": {},
     "output_type": "execute_result"
    }
   ],
   "source": [
    "agg_tensor.sum(), torch.sum(agg_tensor)"
   ]
  },
  {
   "cell_type": "markdown",
   "metadata": {},
   "source": [
    "### Arg Min\n",
    "\n",
    "Index of minimum element"
   ]
  },
  {
   "cell_type": "code",
   "execution_count": 220,
   "metadata": {},
   "outputs": [
    {
     "data": {
      "text/plain": [
       "(tensor(0), tensor(0))"
      ]
     },
     "execution_count": 220,
     "metadata": {},
     "output_type": "execute_result"
    }
   ],
   "source": [
    "agg_tensor.argmin(), torch.argmin(agg_tensor)"
   ]
  },
  {
   "cell_type": "code",
   "execution_count": 221,
   "metadata": {},
   "outputs": [
    {
     "name": "stdout",
     "output_type": "stream",
     "text": [
      "\n",
      "Minimum value in tensor is 1 \n",
      "and index of it is 0\n",
      "\n"
     ]
    }
   ],
   "source": [
    "# Totally unnecessary but here it is anyway.\n",
    "print(f\"\"\"\n",
    "Minimum value in tensor is {agg_tensor[agg_tensor.argmin()]} \n",
    "and index of it is {agg_tensor.argmin()}\n",
    "\"\"\")"
   ]
  },
  {
   "cell_type": "markdown",
   "metadata": {},
   "source": [
    "Arg Max\n",
    "\n",
    "Index of maximum element"
   ]
  },
  {
   "cell_type": "code",
   "execution_count": 222,
   "metadata": {},
   "outputs": [
    {
     "data": {
      "text/plain": [
       "(tensor(8), tensor(8))"
      ]
     },
     "execution_count": 222,
     "metadata": {},
     "output_type": "execute_result"
    }
   ],
   "source": [
    "agg_tensor.argmax(), torch.argmax(agg_tensor)"
   ]
  },
  {
   "cell_type": "markdown",
   "metadata": {},
   "source": [
    "## Tensor Shape Manipulation\n",
    "\n",
    "- Reshape: Reshape tensor to specified shape.\n",
    "- View: Using the same memory return a view of the tensor.\n",
    "- Stack: Stack tensor on top of each other (vertical stack) or side by side (horizonal stack). vstack and hstack also exists as seperate methods.\n",
    "- Squeeze: Removes the shape of `1` dimensions from tensor.\n",
    "- Unsqueeze: Adds a new dimension of `1` to specified tensor index.\n",
    "- Permute: Rearrange dimension order."
   ]
  },
  {
   "cell_type": "code",
   "execution_count": 223,
   "metadata": {},
   "outputs": [
    {
     "data": {
      "text/plain": [
       "(tensor([ 1,  2,  3,  4,  5,  6,  7,  8,  9, 10, 11, 12]), torch.Size([12]))"
      ]
     },
     "execution_count": 223,
     "metadata": {},
     "output_type": "execute_result"
    }
   ],
   "source": [
    "dummy_tensor = torch.arange(1, 13)\n",
    "dummy_tensor, dummy_tensor.shape"
   ]
  },
  {
   "cell_type": "markdown",
   "metadata": {},
   "source": [
    "### Reshape"
   ]
  },
  {
   "cell_type": "code",
   "execution_count": 224,
   "metadata": {},
   "outputs": [
    {
     "name": "stdout",
     "output_type": "stream",
     "text": [
      "shape '[1, 10]' is invalid for input of size 12\n"
     ]
    }
   ],
   "source": [
    "# New shape must be compatible with old tensor's shape\n",
    "try:\n",
    "    reshaped_tensor = dummy_tensor.reshape(1, 10)\n",
    "except Exception as e:\n",
    "    print(e)"
   ]
  },
  {
   "cell_type": "code",
   "execution_count": 225,
   "metadata": {},
   "outputs": [
    {
     "data": {
      "text/plain": [
       "(tensor([[ 1,  2,  3,  4,  5,  6,  7,  8,  9, 10, 11, 12]]),\n",
       " torch.Size([1, 12]))"
      ]
     },
     "execution_count": 225,
     "metadata": {},
     "output_type": "execute_result"
    }
   ],
   "source": [
    "reshaped_tensor = dummy_tensor.reshape(1, 12)\n",
    "reshaped_tensor, reshaped_tensor.shape"
   ]
  },
  {
   "cell_type": "code",
   "execution_count": 226,
   "metadata": {},
   "outputs": [
    {
     "data": {
      "text/plain": [
       "(tensor([[ 1],\n",
       "         [ 2],\n",
       "         [ 3],\n",
       "         [ 4],\n",
       "         [ 5],\n",
       "         [ 6],\n",
       "         [ 7],\n",
       "         [ 8],\n",
       "         [ 9],\n",
       "         [10],\n",
       "         [11],\n",
       "         [12]]),\n",
       " torch.Size([12, 1]))"
      ]
     },
     "execution_count": 226,
     "metadata": {},
     "output_type": "execute_result"
    }
   ],
   "source": [
    "# It was a row vector but after reshaping turned into a column vector.\n",
    "reshaped_tensor = dummy_tensor.reshape(12, 1)\n",
    "reshaped_tensor, reshaped_tensor.shape"
   ]
  },
  {
   "cell_type": "code",
   "execution_count": 227,
   "metadata": {},
   "outputs": [
    {
     "data": {
      "text/plain": [
       "(tensor([[ 1,  2,  3],\n",
       "         [ 4,  5,  6],\n",
       "         [ 7,  8,  9],\n",
       "         [10, 11, 12]]),\n",
       " torch.Size([4, 3]))"
      ]
     },
     "execution_count": 227,
     "metadata": {},
     "output_type": "execute_result"
    }
   ],
   "source": [
    "reshaped_tensor = dummy_tensor.reshape(4, 3)\n",
    "reshaped_tensor, reshaped_tensor.shape"
   ]
  },
  {
   "cell_type": "markdown",
   "metadata": {},
   "source": [
    "### View"
   ]
  },
  {
   "cell_type": "code",
   "execution_count": 228,
   "metadata": {},
   "outputs": [
    {
     "name": "stdout",
     "output_type": "stream",
     "text": [
      "Original tensor:  tensor([ 1,  2,  3,  4,  5,  6,  7,  8,  9, 10, 11, 12])  \n",
      "\n",
      "View tensor:  tensor([[ 1,  2,  3,  4],\n",
      "        [ 5,  6,  7,  8],\n",
      "        [ 9, 10, 11, 12]])\n",
      "+----------After altering-----------+\n",
      "View tensor:  tensor([[99,  2,  3,  4],\n",
      "        [ 5,  6,  7,  8],\n",
      "        [ 9, 10, 11, 12]])\n",
      "Original tensor:  tensor([99,  2,  3,  4,  5,  6,  7,  8,  9, 10, 11, 12])\n"
     ]
    }
   ],
   "source": [
    "# See the original tensor first\n",
    "print(\"Original tensor: \", dummy_tensor, \" \\n\")\n",
    "\n",
    "# Like reshape but shares the same memory\n",
    "view_tensor = dummy_tensor.view(3,4)\n",
    "print(\"View tensor: \", view_tensor)\n",
    "\n",
    "# Alter view tensor\n",
    "view_tensor[0, 0] = 99\n",
    "\n",
    "print(\"+----------After altering-----------+\")\n",
    "# Observe that altered index changed in original tensor too\n",
    "print(\"View tensor: \", view_tensor)\n",
    "print(\"Original tensor: \", dummy_tensor)\n",
    "\n",
    "# Revert original tensor to initial state for future use.\n",
    "dummy_tensor = torch.arange(1, 13)"
   ]
  },
  {
   "cell_type": "markdown",
   "metadata": {},
   "source": [
    "### Stack\n",
    "\n",
    "- Tensors should be same size."
   ]
  },
  {
   "cell_type": "code",
   "execution_count": 229,
   "metadata": {},
   "outputs": [
    {
     "data": {
      "text/plain": [
       "tensor([[ 1,  2,  3,  4,  5,  6,  7,  8,  9, 10, 11, 12],\n",
       "        [ 1,  2,  3,  4,  5,  6,  7,  8,  9, 10, 11, 12]])"
      ]
     },
     "execution_count": 229,
     "metadata": {},
     "output_type": "execute_result"
    }
   ],
   "source": [
    "stacked_tensor = torch.stack([dummy_tensor, dummy_tensor], dim=0)\n",
    "stacked_tensor"
   ]
  },
  {
   "cell_type": "code",
   "execution_count": 230,
   "metadata": {},
   "outputs": [
    {
     "data": {
      "text/plain": [
       "tensor([[ 1,  1],\n",
       "        [ 2,  2],\n",
       "        [ 3,  3],\n",
       "        [ 4,  4],\n",
       "        [ 5,  5],\n",
       "        [ 6,  6],\n",
       "        [ 7,  7],\n",
       "        [ 8,  8],\n",
       "        [ 9,  9],\n",
       "        [10, 10],\n",
       "        [11, 11],\n",
       "        [12, 12]])"
      ]
     },
     "execution_count": 230,
     "metadata": {},
     "output_type": "execute_result"
    }
   ],
   "source": [
    "stacked_tensor = torch.stack([dummy_tensor, dummy_tensor], dim=1)\n",
    "stacked_tensor"
   ]
  },
  {
   "cell_type": "code",
   "execution_count": 231,
   "metadata": {},
   "outputs": [
    {
     "name": "stdout",
     "output_type": "stream",
     "text": [
      "Dimension out of range (expected to be in range of [-2, 1], but got 2)\n"
     ]
    }
   ],
   "source": [
    "# https://pytorch.org/docs/main/generated/torch.stack.html\n",
    "# Funnily enough, website states that dim parameter has to be between 0 and \n",
    "# the number of dimensions of concatenated tensors (inclusive).\n",
    "# But -1 works like 1 and -2 works like 0 because of counting backwards like python slices.\n",
    "try:\n",
    "    stacked_tensor = torch.stack([dummy_tensor, dummy_tensor, dummy_tensor], dim=2)\n",
    "    print(stacked_tensor)\n",
    "except Exception as e:\n",
    "    print(e)"
   ]
  },
  {
   "cell_type": "markdown",
   "metadata": {},
   "source": [
    "### hstack\n",
    "\n",
    "- hstack method concatenates the inputs side by side depending on the written order. If row counts of tensors are equal, all's good with the world.\n",
    "- If two tensors are vectors, next one will be appended to the previous tensor."
   ]
  },
  {
   "cell_type": "code",
   "execution_count": 232,
   "metadata": {},
   "outputs": [
    {
     "name": "stdout",
     "output_type": "stream",
     "text": [
      "tensor([[1, 2],\n",
      "        [3, 4]])\n",
      "tensor([[ 5,  6,  7],\n",
      "        [ 8,  9, 10]])\n"
     ]
    },
    {
     "data": {
      "text/plain": [
       "tensor([[ 1,  2,  5,  6,  7],\n",
       "        [ 3,  4,  8,  9, 10]])"
      ]
     },
     "execution_count": 232,
     "metadata": {},
     "output_type": "execute_result"
    }
   ],
   "source": [
    "hstack_dummy = torch.arange(1, 5)\n",
    "\n",
    "hstack_mat_A = torch.arange(1, 5).reshape((2,2))\n",
    "hstack_mat_B = torch.arange(5, 11).reshape((2,3)) # this works\n",
    "#hstack_mat_B = torch.arange(5, 11).reshape((3,2)) # this won't work\n",
    "\n",
    "print(hstack_mat_A)\n",
    "print(hstack_mat_B)\n",
    "\n",
    "torch.hstack([hstack_mat_A, hstack_mat_B])"
   ]
  },
  {
   "cell_type": "code",
   "execution_count": 233,
   "metadata": {},
   "outputs": [
    {
     "name": "stdout",
     "output_type": "stream",
     "text": [
      "Tensor A: tensor([[[1, 2],\n",
      "         [3, 4]],\n",
      "\n",
      "        [[5, 6],\n",
      "         [7, 8]]])\n",
      "Tensor B: tensor([[[ 9, 10],\n",
      "         [11, 12]],\n",
      "\n",
      "        [[13, 14],\n",
      "         [15, 16]]])\n"
     ]
    },
    {
     "data": {
      "text/plain": [
       "tensor([[[ 1,  2],\n",
       "         [ 3,  4],\n",
       "         [ 9, 10],\n",
       "         [11, 12]],\n",
       "\n",
       "        [[ 5,  6],\n",
       "         [ 7,  8],\n",
       "         [13, 14],\n",
       "         [15, 16]]])"
      ]
     },
     "execution_count": 233,
     "metadata": {},
     "output_type": "execute_result"
    }
   ],
   "source": [
    "hstack_tensor_A = torch.arange(1, 9).reshape((2, 2, 2))\n",
    "hstack_tensor_B = torch.arange(9, 17).reshape((2, 2, 2))\n",
    "\n",
    "print(\"Tensor A:\", hstack_tensor_A)\n",
    "print(\"Tensor B:\", hstack_tensor_B)\n",
    "\n",
    "torch.hstack([hstack_tensor_A, hstack_tensor_B])"
   ]
  },
  {
   "cell_type": "markdown",
   "metadata": {},
   "source": [
    "![hstack_logic.png](resources/hstack_logic.png)"
   ]
  },
  {
   "cell_type": "markdown",
   "metadata": {},
   "source": [
    "### vstack\n",
    "\n",
    "This one does not have much of an appeal. Same with stack(dim=0)."
   ]
  },
  {
   "cell_type": "code",
   "execution_count": 234,
   "metadata": {},
   "outputs": [
    {
     "data": {
      "text/plain": [
       "tensor([[ 1,  2,  3,  4,  5,  6,  7,  8,  9, 10, 11, 12],\n",
       "        [ 1,  2,  3,  4,  5,  6,  7,  8,  9, 10, 11, 12]])"
      ]
     },
     "execution_count": 234,
     "metadata": {},
     "output_type": "execute_result"
    }
   ],
   "source": [
    "torch.vstack([dummy_tensor, dummy_tensor])"
   ]
  },
  {
   "cell_type": "markdown",
   "metadata": {},
   "source": [
    "### Squeeze"
   ]
  },
  {
   "cell_type": "code",
   "execution_count": 235,
   "metadata": {},
   "outputs": [
    {
     "name": "stdout",
     "output_type": "stream",
     "text": [
      "Unsqueezed: 2 depth, 3 columns, 1 row\n",
      "tensor([[[0.],\n",
      "         [0.],\n",
      "         [0.]],\n",
      "\n",
      "        [[0.],\n",
      "         [0.],\n",
      "         [0.]]])\n"
     ]
    },
    {
     "data": {
      "text/plain": [
       "(tensor([[0., 0., 0.],\n",
       "         [0., 0., 0.]]),\n",
       " tensor([[0., 0., 0.],\n",
       "         [0., 0., 0.]]))"
      ]
     },
     "execution_count": 235,
     "metadata": {},
     "output_type": "execute_result"
    }
   ],
   "source": [
    "# It's weird...\n",
    "# But if you have a tensor of shape (1, 224, 224, 3) but just (224, 224, 3) required,\n",
    "# Just squeeze it.\n",
    "# Also supports removing from specified dimensions using tuple or int if single dim be removed\n",
    "\n",
    "sq_tensor = torch.zeros((2, 3, 1)) # depth, col, row\n",
    "print(\"Unsqueezed: 2 depth, 3 columns, 1 row\")\n",
    "#       +---+\n",
    "#      /   /|\n",
    "#     +---+ |                           +---+---+---+\n",
    "#    /   /| +                          /   /   /   /|\n",
    "#   +---+ |/|                         +---+---+---+ |\n",
    "#   |   | + |              \\          |   |   |   | +\n",
    "#   |   |/| +         ------\\         |   |   |   |/|\n",
    "#   +---+ |/|         ------/         +---+---+---+ |\n",
    "#   |   | + |              /          |   |   |   | + \n",
    "#   |   |/| +                         |   |   |   |/\n",
    "#   +---+ |/                          +---+---+---+\n",
    "#   |   | +   \n",
    "#   |   |/    \n",
    "#   +---+    \n",
    "\n",
    "print(sq_tensor)\n",
    "sq_tensor.squeeze(), torch.squeeze(sq_tensor)"
   ]
  },
  {
   "cell_type": "markdown",
   "metadata": {},
   "source": [
    "### Unsqueeze"
   ]
  },
  {
   "cell_type": "code",
   "execution_count": 236,
   "metadata": {},
   "outputs": [
    {
     "data": {
      "text/plain": [
       "tensor([1, 2, 3, 4, 5, 6, 7, 8, 9])"
      ]
     },
     "execution_count": 236,
     "metadata": {},
     "output_type": "execute_result"
    }
   ],
   "source": [
    "usq_tensor = torch.arange(1, 10)\n",
    "usq_tensor"
   ]
  },
  {
   "cell_type": "code",
   "execution_count": 237,
   "metadata": {},
   "outputs": [
    {
     "name": "stdout",
     "output_type": "stream",
     "text": [
      "\n",
      "Shape of tensor before unsqueezing: torch.Size([9])\n",
      "Shape of tensor after unsqueezing for index 0: torch.Size([1, 9])\n",
      "Shape of tensor after unsqueezing for index 1: torch.Size([9, 1])\n",
      "\n"
     ]
    }
   ],
   "source": [
    "print(f\"\"\"\n",
    "Shape of tensor before unsqueezing: {usq_tensor.shape}\n",
    "Shape of tensor after unsqueezing for index 0: {usq_tensor.unsqueeze(dim=0).shape}\n",
    "Shape of tensor after unsqueezing for index 1: {usq_tensor.unsqueeze(dim=1).shape}\n",
    "\"\"\")"
   ]
  },
  {
   "cell_type": "markdown",
   "metadata": {},
   "source": [
    "### Permute"
   ]
  },
  {
   "cell_type": "code",
   "execution_count": 238,
   "metadata": {},
   "outputs": [
    {
     "name": "stdout",
     "output_type": "stream",
     "text": [
      "Image is currently in order of width, height, color channels with the size of torch.Size([128, 128, 3])\n",
      "Image rearranged as color chanels, width, height. New shape is torch.Size([3, 128, 128])\n"
     ]
    }
   ],
   "source": [
    "#                           0    1   2\n",
    "image_tensor = torch.rand((128, 128, 3))\n",
    "print(\"Image is currently in order of width, height, color channels with the size of\", image_tensor.shape)\n",
    "\n",
    "rearranged_tensor = torch.permute(image_tensor, dims=(2, 1, 0)) # 2->0, 1->1, 0->2\n",
    "print(\"Image rearranged as color chanels, width, height. New shape is\", rearranged_tensor.shape)"
   ]
  },
  {
   "cell_type": "code",
   "execution_count": 239,
   "metadata": {},
   "outputs": [
    {
     "name": "stdout",
     "output_type": "stream",
     "text": [
      "image_tensor before changing permuted tensor: tensor(0.4575)\n",
      "image_tensor after changing permuted tensor: tensor(1.)\n"
     ]
    }
   ],
   "source": [
    "# Changes on assigned variable will effect original tensor since permute works as view.\n",
    "print(\"image_tensor before changing permuted tensor:\", image_tensor[0, 0, 0])\n",
    "rearranged_tensor[0, 0, 0] = 1\n",
    "\n",
    "print(\"image_tensor after changing permuted tensor:\", image_tensor[0, 0, 0])"
   ]
  },
  {
   "cell_type": "code",
   "execution_count": null,
   "metadata": {},
   "outputs": [],
   "source": []
  }
 ],
 "metadata": {
  "kernelspec": {
   "display_name": ".venv",
   "language": "python",
   "name": "python3"
  },
  "language_info": {
   "codemirror_mode": {
    "name": "ipython",
    "version": 3
   },
   "file_extension": ".py",
   "mimetype": "text/x-python",
   "name": "python",
   "nbconvert_exporter": "python",
   "pygments_lexer": "ipython3",
   "version": "3.11.5"
  }
 },
 "nbformat": 4,
 "nbformat_minor": 2
}
