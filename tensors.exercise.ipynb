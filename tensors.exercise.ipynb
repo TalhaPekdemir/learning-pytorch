{
 "cells": [
  {
   "cell_type": "markdown",
   "metadata": {},
   "source": [
    "# Exercises for Tensors"
   ]
  },
  {
   "cell_type": "markdown",
   "metadata": {},
   "source": [
    "\n",
    "1. Documentation reading - A big part of deep learning (and learning to code in general) is getting familiar with the documentation of a certain framework you're using. We'll be using the PyTorch documentation a lot throughout the rest of this course. So I'd recommend spending 10-minutes reading the following (it's okay if you don't get some things for now, the focus is not yet full understanding, it's awareness). See the documentation on torch.Tensor and for torch.cuda.\n",
    "2. Create a random tensor with shape (7, 7).\n",
    "3. Perform a matrix multiplication on the tensor from 2 with another random tensor with shape (1, 7) (hint: you may have to transpose the second tensor).\n",
    "4. Set the random seed to 0 and do exercises 2 & 3 over again.\n",
    "5. Speaking of random seeds, we saw how to set it with torch.manual_seed() but is there a GPU equivalent? (hint: you'll need to look into the documentation for torch.cuda for this one). If there is, set the GPU random seed to 1234.\n",
    "6. Create two random tensors of shape (2, 3) and send them both to the GPU (you'll need access to a GPU for this). Set torch.manual_seed(1234) when creating the tensors (this doesn't have to be the GPU random seed).\n",
    "7. Perform a matrix multiplication on the tensors you created in 6 (again, you may have to adjust the shapes of one of the tensors).\n",
    "8. Find the maximum and minimum values of the output of 7.\n",
    "9. Find the maximum and minimum index values of the output of 7.\n",
    "10. Make a random tensor with shape (1, 1, 1, 10) and then create a new tensor with all the 1 dimensions removed to be left with a tensor of shape (10). Set the seed to 7 when you create it and print out the first tensor and it's shape as well as the second tensor and it's shape.\n"
   ]
  },
  {
   "cell_type": "code",
   "execution_count": null,
   "metadata": {},
   "outputs": [],
   "source": [
    "# ANSWER 1. Done. Eventually. Will be."
   ]
  },
  {
   "cell_type": "code",
   "execution_count": 1,
   "metadata": {},
   "outputs": [],
   "source": [
    "import torch"
   ]
  },
  {
   "cell_type": "code",
   "execution_count": 3,
   "metadata": {},
   "outputs": [
    {
     "data": {
      "text/plain": [
       "(tensor([[0.7445, 0.2492, 0.1955, 0.3050, 0.6772, 0.7161, 0.6420],\n",
       "         [0.4808, 0.8398, 0.3289, 0.5838, 0.9112, 0.2852, 0.0963],\n",
       "         [0.7299, 0.1109, 0.7832, 0.0991, 0.3654, 0.6129, 0.3999],\n",
       "         [0.7931, 0.5715, 0.9948, 0.5131, 0.8613, 0.1308, 0.1052],\n",
       "         [0.6894, 0.0743, 0.5290, 0.5238, 0.8661, 0.4042, 0.8056],\n",
       "         [0.5047, 0.3520, 0.5977, 0.9075, 0.6559, 0.1980, 0.2012],\n",
       "         [0.1750, 0.6280, 0.7647, 0.2417, 0.4023, 0.7940, 0.2733]]),\n",
       " torch.Size([7, 7]))"
      ]
     },
     "execution_count": 3,
     "metadata": {},
     "output_type": "execute_result"
    }
   ],
   "source": [
    "# ANSWER 2\n",
    "\n",
    "rand7x7 = torch.rand(size=(7,7))\n",
    "\n",
    "rand7x7, rand7x7.shape"
   ]
  },
  {
   "cell_type": "code",
   "execution_count": 5,
   "metadata": {},
   "outputs": [
    {
     "name": "stdout",
     "output_type": "stream",
     "text": [
      "tensor([[0.8713, 0.6587, 0.9880, 0.6775, 0.7512, 0.0994, 0.8067]])\n"
     ]
    },
    {
     "data": {
      "text/plain": [
       "tensor([[2.3106],\n",
       "        [2.4830],\n",
       "        [2.2079],\n",
       "        [3.1428],\n",
       "        [2.8678],\n",
       "        [2.5516],\n",
       "        [2.0870]])"
      ]
     },
     "execution_count": 5,
     "metadata": {},
     "output_type": "execute_result"
    }
   ],
   "source": [
    "# ANSWER 3\n",
    "rand1x7 = torch.rand(size=(1, 7))\n",
    "print(rand1x7)\n",
    "\n",
    "# (7, 7) @ (7, 1) -> (7, 1)\n",
    "matmul_result = torch.matmul(rand7x7, rand1x7.T)\n",
    "matmul_result"
   ]
  },
  {
   "cell_type": "code",
   "execution_count": 17,
   "metadata": {},
   "outputs": [
    {
     "name": "stdout",
     "output_type": "stream",
     "text": [
      "Seeded random 7x7 tensor with shape:\n",
      " tensor([[0.4963, 0.7682, 0.0885, 0.1320, 0.3074, 0.6341, 0.4901],\n",
      "        [0.8964, 0.4556, 0.6323, 0.3489, 0.4017, 0.0223, 0.1689],\n",
      "        [0.2939, 0.5185, 0.6977, 0.8000, 0.1610, 0.2823, 0.6816],\n",
      "        [0.9152, 0.3971, 0.8742, 0.4194, 0.5529, 0.9527, 0.0362],\n",
      "        [0.1852, 0.3734, 0.3051, 0.9320, 0.1759, 0.2698, 0.1507],\n",
      "        [0.0317, 0.2081, 0.9298, 0.7231, 0.7423, 0.5263, 0.2437],\n",
      "        [0.5846, 0.0332, 0.1387, 0.2422, 0.8155, 0.7932, 0.2783]]) torch.Size([7, 7])\n",
      "Seeded random 1x7 tensor\n",
      " tensor([[0.4963, 0.7682, 0.0885, 0.1320, 0.3074, 0.6341, 0.4901]])\n",
      "Seeded matmul result:\n",
      " tensor([[1.5985],\n",
      "        [1.1173],\n",
      "        [1.2741],\n",
      "        [1.6838],\n",
      "        [0.8279],\n",
      "        [1.0347],\n",
      "        [1.2498]])\n"
     ]
    }
   ],
   "source": [
    "# ANSWER 4\n",
    "\n",
    "torch.manual_seed(0)\n",
    "rand7x7 = torch.rand(size=(7, 7))\n",
    "\n",
    "print(\"Seeded random 7x7 tensor with shape:\\n\", rand7x7, rand7x7.shape)\n",
    "\n",
    "torch.manual_seed(0)\n",
    "rand1x7 = torch.rand(size=(1, 7))\n",
    "print(\"Seeded random 1x7 tensor\\n\", rand1x7)\n",
    "\n",
    "# (7, 7) @ (7, 1) -> (7, 1)\n",
    "matmul_result = torch.matmul(rand7x7, rand1x7.T)\n",
    "print(\"Seeded matmul result:\\n\", matmul_result)"
   ]
  },
  {
   "cell_type": "code",
   "execution_count": 18,
   "metadata": {},
   "outputs": [],
   "source": [
    "# ANSWER 5\n",
    "\n",
    "# torch.cuda.manual_seed(1234)"
   ]
  },
  {
   "cell_type": "code",
   "execution_count": 20,
   "metadata": {},
   "outputs": [
    {
     "name": "stdout",
     "output_type": "stream",
     "text": [
      "cuda\n",
      "Tensor A device: cuda:0 \n",
      "Tensor B device: cuda:0\n"
     ]
    }
   ],
   "source": [
    "# ANSWER 6\n",
    "\n",
    "device = \"cuda\" if torch.cuda.is_available() else \"cpu\"\n",
    "print(device)\n",
    "\n",
    "torch.cuda.manual_seed(1234)\n",
    "gpu_tensor_A = torch.rand(size=(2,3), device=device)\n",
    "torch.cuda.manual_seed(1234)\n",
    "gpu_tensor_B = torch.rand(size=(2, 3), device=device)\n",
    "\n",
    "print(\"Tensor A device:\", gpu_tensor_A.device, \"\\nTensor B device:\", gpu_tensor_B.device)"
   ]
  },
  {
   "cell_type": "code",
   "execution_count": 22,
   "metadata": {},
   "outputs": [
    {
     "name": "stdout",
     "output_type": "stream",
     "text": [
      "tensor([[0.9792, 0.8358],\n",
      "        [0.8358, 1.4578]], device='cuda:0')\n"
     ]
    }
   ],
   "source": [
    "# ANSWER 7\n",
    "\n",
    "gpu_matmul_result = torch.matmul(gpu_tensor_A, gpu_tensor_B.T)\n",
    "\n",
    "print(gpu_matmul_result)"
   ]
  },
  {
   "cell_type": "code",
   "execution_count": 24,
   "metadata": {},
   "outputs": [
    {
     "name": "stdout",
     "output_type": "stream",
     "text": [
      "Min: tensor(0.8358, device='cuda:0')\n",
      "Max: tensor(1.4578, device='cuda:0')\n"
     ]
    }
   ],
   "source": [
    "# ANSWER 8\n",
    "\n",
    "print(\"Min:\", gpu_matmul_result.min())\n",
    "print(\"Max:\", gpu_matmul_result.max())"
   ]
  },
  {
   "cell_type": "code",
   "execution_count": 25,
   "metadata": {},
   "outputs": [
    {
     "name": "stdout",
     "output_type": "stream",
     "text": [
      "Min index: tensor(1, device='cuda:0')\n",
      "Max index: tensor(3, device='cuda:0')\n"
     ]
    }
   ],
   "source": [
    "# ANSWER 9\n",
    "\n",
    "print(\"Min index:\", gpu_matmul_result.argmin())\n",
    "print(\"Max index:\", gpu_matmul_result.argmax())"
   ]
  },
  {
   "cell_type": "code",
   "execution_count": 26,
   "metadata": {},
   "outputs": [
    {
     "name": "stdout",
     "output_type": "stream",
     "text": [
      "Tensor:  tensor([[[[0.5349, 0.1988, 0.6592, 0.6569, 0.2328, 0.4251, 0.2071, 0.6297,\n",
      "           0.3653, 0.8513]]]]) \n",
      "Tensor shape:  torch.Size([1, 1, 1, 10])\n",
      "New tensor:  tensor([0.5349, 0.1988, 0.6592, 0.6569, 0.2328, 0.4251, 0.2071, 0.6297, 0.3653,\n",
      "        0.8513]) \n",
      "New tensor shape:  torch.Size([10])\n"
     ]
    }
   ],
   "source": [
    "# ANSWER 10\n",
    "\n",
    "# Make a random tensor with shape (1, 1, 1, 10) and then create a new tensor with \n",
    "# all the 1 dimensions removed to be left with a tensor of shape (10). \n",
    "# Set the seed to 7 when you create it and print out the first tensor \n",
    "# and it's shape as well as the second tensor and it's shape.\n",
    "\n",
    "torch.manual_seed(7)\n",
    "oneoneone_tensor = torch.rand(size=(1, 1, 1, 10))\n",
    "\n",
    "print(\"Tensor: \", oneoneone_tensor, \"\\nTensor shape: \", oneoneone_tensor.shape)\n",
    "\n",
    "and_then_there_was_ten = torch.squeeze(oneoneone_tensor)\n",
    "\n",
    "print(\"New tensor: \", and_then_there_was_ten,\n",
    "      \"\\nNew tensor shape: \", and_then_there_was_ten.shape)"
   ]
  }
 ],
 "metadata": {
  "kernelspec": {
   "display_name": ".venv",
   "language": "python",
   "name": "python3"
  },
  "language_info": {
   "codemirror_mode": {
    "name": "ipython",
    "version": 3
   },
   "file_extension": ".py",
   "mimetype": "text/x-python",
   "name": "python",
   "nbconvert_exporter": "python",
   "pygments_lexer": "ipython3",
   "version": "3.11.5"
  }
 },
 "nbformat": 4,
 "nbformat_minor": 2
}
